{
 "cells": [
  {
   "cell_type": "markdown",
   "metadata": {},
   "source": [
    "# Project Overview\n",
    "\n",
    "You receive a European Soccer Database that has more than 25,000 matches and more than 10,000 players for European professional soccer seasons from 2008 to 2016. The goal is you walk through this database to do analysis include some steps for exploring our dataset, some steps for basics statistics and then you visualize the result. To complete all your steps, you need to query your data in the database using SQL statement. This project practices you write SQL command to pull data and extrac it. "
   ]
  },
  {
   "cell_type": "markdown",
   "metadata": {},
   "source": [
    "# Database Description\n",
    "\n",
    "This European Soccer Database has more than 25,000 matches and more than 10,000 players for European professional soccer seasons from 2008 to 2016, 11 European Countries with their lead championship. Players and Teams' attributes sourced from EA Sports' FIFA video game series, including the weekly updates."
   ]
  },
  {
   "cell_type": "markdown",
   "metadata": {},
   "source": [
    "# Import Python package"
   ]
  },
  {
   "cell_type": "code",
   "execution_count": 1,
   "metadata": {
    "ExecuteTime": {
     "end_time": "2023-07-24T12:46:47.839565500Z",
     "start_time": "2023-07-24T12:46:47.471714100Z"
    }
   },
   "outputs": [],
   "source": [
    "#Import libraries\n",
    "import numpy as np\n",
    "import pandas as pd\n",
    "import sqlite3\n",
    "from datetime import timedelta\n",
    "import warnings\n",
    "warnings.filterwarnings(\"ignore\")\n",
    "pd.set_option(\"display.max_columns\", 100)"
   ]
  },
  {
   "cell_type": "markdown",
   "metadata": {},
   "source": [
    "## Question 1: Connect to database and get information of all tables\n",
    "\n",
    "Read https://docs.python.org/2/library/sqlite3.html\n",
    "\n",
    "You write only SQL statement to get the result, should not use Pandas to manipulate result."
   ]
  },
  {
   "cell_type": "code",
   "execution_count": 2,
   "metadata": {
    "ExecuteTime": {
     "end_time": "2023-07-24T12:46:47.853984500Z",
     "start_time": "2023-07-24T12:46:47.840565700Z"
    }
   },
   "outputs": [
    {
     "name": "stdout",
     "output_type": "stream",
     "text": [
      "    type               name           tbl_name  rootpage  \\\n",
      "0  table    sqlite_sequence    sqlite_sequence         4   \n",
      "1  table  Player_Attributes  Player_Attributes        11   \n",
      "2  table             Player             Player        14   \n",
      "3  table              Match              Match        18   \n",
      "4  table             League             League        24   \n",
      "5  table            Country            Country        26   \n",
      "6  table               Team               Team        29   \n",
      "7  table    Team_Attributes    Team_Attributes         2   \n",
      "\n",
      "                                                 sql  \n",
      "0             CREATE TABLE sqlite_sequence(name,seq)  \n",
      "1  CREATE TABLE \"Player_Attributes\" (\\n\\t`id`\\tIN...  \n",
      "2  CREATE TABLE `Player` (\\n\\t`id`\\tINTEGER PRIMA...  \n",
      "3  CREATE TABLE `Match` (\\n\\t`id`\\tINTEGER PRIMAR...  \n",
      "4  CREATE TABLE `League` (\\n\\t`id`\\tINTEGER PRIMA...  \n",
      "5  CREATE TABLE `Country` (\\n\\t`id`\\tINTEGER PRIM...  \n",
      "6  CREATE TABLE \"Team\" (\\n\\t`id`\\tINTEGER PRIMARY...  \n",
      "7  CREATE TABLE `Team_Attributes` (\\n\\t`id`\\tINTE...  \n"
     ]
    }
   ],
   "source": [
    "#Connect to database \n",
    "# establish a new connection with sqlite\n",
    "conn = sqlite3.connect('database.sqlite')\n",
    "\n",
    "#and get information of all tables\n",
    "tables = pd.read_sql(\"\"\"SELECT *\n",
    "                        FROM sqlite_master\n",
    "                        WHERE type='table';\"\"\", conn)\n",
    "print(tables)"
   ]
  },
  {
   "cell_type": "markdown",
   "metadata": {},
   "source": [
    "## Question 2: Select data in \"Country\" table"
   ]
  },
  {
   "cell_type": "code",
   "execution_count": 3,
   "metadata": {
    "ExecuteTime": {
     "end_time": "2023-07-24T12:46:47.900048700Z",
     "start_time": "2023-07-24T12:46:47.855338100Z"
    }
   },
   "outputs": [
    {
     "name": "stdout",
     "output_type": "stream",
     "text": [
      "       id         name\n",
      "0       1      Belgium\n",
      "1    1729      England\n",
      "2    4769       France\n",
      "3    7809      Germany\n",
      "4   10257        Italy\n",
      "5   13274  Netherlands\n",
      "6   15722       Poland\n",
      "7   17642     Portugal\n",
      "8   19694     Scotland\n",
      "9   21518        Spain\n",
      "10  24558  Switzerland\n"
     ]
    }
   ],
   "source": [
    "#write your query\n",
    "countries = pd.read_sql(\"select * from country\", conn)\n",
    "print(countries)"
   ]
  },
  {
   "cell_type": "markdown",
   "metadata": {},
   "source": [
    "## Question 3: Select data in \"League\" table"
   ]
  },
  {
   "cell_type": "code",
   "execution_count": 4,
   "metadata": {
    "ExecuteTime": {
     "end_time": "2023-07-24T12:46:52.769100900Z",
     "start_time": "2023-07-24T12:46:52.758139Z"
    }
   },
   "outputs": [
    {
     "name": "stdout",
     "output_type": "stream",
     "text": [
      "       id  country_id                      name\n",
      "0       1           1    Belgium Jupiler League\n",
      "1    1729        1729    England Premier League\n",
      "2    4769        4769            France Ligue 1\n",
      "3    7809        7809     Germany 1. Bundesliga\n",
      "4   10257       10257             Italy Serie A\n",
      "5   13274       13274    Netherlands Eredivisie\n",
      "6   15722       15722        Poland Ekstraklasa\n",
      "7   17642       17642  Portugal Liga ZON Sagres\n",
      "8   19694       19694   Scotland Premier League\n",
      "9   21518       21518           Spain LIGA BBVA\n",
      "10  24558       24558  Switzerland Super League\n"
     ]
    }
   ],
   "source": [
    "#write your query\n",
    "leagues = pd.read_sql(\"select * from league\", conn)\n",
    "print(leagues)"
   ]
  },
  {
   "cell_type": "markdown",
   "metadata": {},
   "source": [
    "## Question 4: Select League data with country information\n",
    "The League table has relation with Country table by country_id. Use the join sql statement to join two tables."
   ]
  },
  {
   "cell_type": "code",
   "execution_count": 5,
   "metadata": {
    "ExecuteTime": {
     "end_time": "2023-07-24T12:46:53.228695700Z",
     "start_time": "2023-07-24T12:46:53.216712300Z"
    }
   },
   "outputs": [
    {
     "name": "stdout",
     "output_type": "stream",
     "text": [
      "                      league      country\n",
      "0     Belgium Jupiler League      Belgium\n",
      "1     England Premier League      England\n",
      "2             France Ligue 1       France\n",
      "3      Germany 1. Bundesliga      Germany\n",
      "4              Italy Serie A        Italy\n",
      "5     Netherlands Eredivisie  Netherlands\n",
      "6         Poland Ekstraklasa       Poland\n",
      "7   Portugal Liga ZON Sagres     Portugal\n",
      "8    Scotland Premier League     Scotland\n",
      "9            Spain LIGA BBVA        Spain\n",
      "10  Switzerland Super League  Switzerland\n"
     ]
    }
   ],
   "source": [
    "#write your query\n",
    "leagues = pd.read_sql(\"\"\"\n",
    "    select l.name as league, c.name as country\n",
    "    from league as l\n",
    "    inner join country as c\n",
    "    on l.country_id = c.id \"\"\", conn)\n",
    "print(leagues)"
   ]
  },
  {
   "cell_type": "markdown",
   "metadata": {},
   "source": [
    "## Question 5: Select data from _Match_ table\n",
    "- When a team is serving as host of a contest, it is designated as the \"home team\". The opposing team is said to be the \"away \n",
    "team\"\n",
    "- In Match table, each row is a match with one home team and one away team including home team goal and away team goal respectively"
   ]
  },
  {
   "cell_type": "code",
   "execution_count": 6,
   "metadata": {
    "ExecuteTime": {
     "end_time": "2023-07-24T12:46:55.201099600Z",
     "start_time": "2023-07-24T12:46:53.595979500Z"
    }
   },
   "outputs": [
    {
     "data": {
      "text/plain": "          id  country_id  league_id     season  stage                 date  \\\n0          1           1          1  2008/2009      1  2008-08-17 00:00:00   \n1          2           1          1  2008/2009      1  2008-08-16 00:00:00   \n2          3           1          1  2008/2009      1  2008-08-16 00:00:00   \n3          4           1          1  2008/2009      1  2008-08-17 00:00:00   \n4          5           1          1  2008/2009      1  2008-08-16 00:00:00   \n...      ...         ...        ...        ...    ...                  ...   \n25974  25975       24558      24558  2015/2016      9  2015-09-22 00:00:00   \n25975  25976       24558      24558  2015/2016      9  2015-09-23 00:00:00   \n25976  25977       24558      24558  2015/2016      9  2015-09-23 00:00:00   \n25977  25978       24558      24558  2015/2016      9  2015-09-22 00:00:00   \n25978  25979       24558      24558  2015/2016      9  2015-09-23 00:00:00   \n\n       match_api_id  home_team_api_id  away_team_api_id  home_team_goal  \\\n0            492473              9987              9993               1   \n1            492474             10000              9994               0   \n2            492475              9984              8635               0   \n3            492476              9991              9998               5   \n4            492477              7947              9985               1   \n...             ...               ...               ...             ...   \n25974       1992091             10190             10191               1   \n25975       1992092              9824             10199               1   \n25976       1992093              9956             10179               2   \n25977       1992094              7896             10243               0   \n25978       1992095             10192              9931               4   \n\n       away_team_goal  home_player_X1  home_player_X2  home_player_X3  \\\n0                   1             NaN             NaN             NaN   \n1                   0             NaN             NaN             NaN   \n2                   3             NaN             NaN             NaN   \n3                   0             NaN             NaN             NaN   \n4                   3             NaN             NaN             NaN   \n...               ...             ...             ...             ...   \n25974               0             1.0             2.0             4.0   \n25975               2             1.0             3.0             5.0   \n25976               0             1.0             2.0             4.0   \n25977               0             1.0             2.0             4.0   \n25978               3             1.0             2.0             4.0   \n\n       home_player_X4  home_player_X5  home_player_X6  home_player_X7  \\\n0                 NaN             NaN             NaN             NaN   \n1                 NaN             NaN             NaN             NaN   \n2                 NaN             NaN             NaN             NaN   \n3                 NaN             NaN             NaN             NaN   \n4                 NaN             NaN             NaN             NaN   \n...               ...             ...             ...             ...   \n25974             6.0             8.0             4.0             6.0   \n25975             7.0             2.0             4.0             6.0   \n25976             6.0             8.0             4.0             6.0   \n25977             6.0             8.0             3.0             7.0   \n25978             6.0             8.0             2.0             4.0   \n\n       home_player_X8  home_player_X9  home_player_X10  home_player_X11  \\\n0                 NaN             NaN              NaN              NaN   \n1                 NaN             NaN              NaN              NaN   \n2                 NaN             NaN              NaN              NaN   \n3                 NaN             NaN              NaN              NaN   \n4                 NaN             NaN              NaN              NaN   \n...               ...             ...              ...              ...   \n25974             3.0             5.0              7.0              5.0   \n25975             8.0             5.0              4.0              6.0   \n25976             3.0             5.0              7.0              5.0   \n25977             5.0             3.0              5.0              7.0   \n25978             6.0             8.0              4.0              6.0   \n\n       away_player_X1  away_player_X2  away_player_X3  away_player_X4  \\\n0                 NaN             NaN             NaN             NaN   \n1                 NaN             NaN             NaN             NaN   \n2                 NaN             NaN             NaN             NaN   \n3                 NaN             NaN             NaN             NaN   \n4                 NaN             NaN             NaN             NaN   \n...               ...             ...             ...             ...   \n25974             1.0             2.0             4.0             6.0   \n25975             1.0             2.0             4.0             6.0   \n25976             1.0             2.0             4.0             6.0   \n25977             1.0             2.0             4.0             6.0   \n25978             1.0             2.0             4.0             6.0   \n\n       away_player_X5  away_player_X6  away_player_X7  away_player_X8  \\\n0                 NaN             NaN             NaN             NaN   \n1                 NaN             NaN             NaN             NaN   \n2                 NaN             NaN             NaN             NaN   \n3                 NaN             NaN             NaN             NaN   \n4                 NaN             NaN             NaN             NaN   \n...               ...             ...             ...             ...   \n25974             8.0             4.0             6.0             3.0   \n25975             8.0             3.0             5.0             7.0   \n25976             8.0             4.0             6.0             3.0   \n25977             8.0             4.0             6.0             3.0   \n25978             8.0             4.0             6.0             3.0   \n\n       away_player_X9  away_player_X10  away_player_X11  home_player_Y1  \\\n0                 NaN              NaN              NaN             NaN   \n1                 NaN              NaN              NaN             NaN   \n2                 NaN              NaN              NaN             NaN   \n3                 NaN              NaN              NaN             NaN   \n4                 NaN              NaN              NaN             NaN   \n...               ...              ...              ...             ...   \n25974             5.0              7.0              5.0             1.0   \n25975             3.0              5.0              7.0             1.0   \n25976             5.0              7.0              5.0             1.0   \n25977             5.0              7.0              5.0             1.0   \n25978             5.0              7.0              5.0             1.0   \n\n       home_player_Y2  home_player_Y3  home_player_Y4  home_player_Y5  \\\n0                 NaN             NaN             NaN             NaN   \n1                 NaN             NaN             NaN             NaN   \n2                 NaN             NaN             NaN             NaN   \n3                 NaN             NaN             NaN             NaN   \n4                 NaN             NaN             NaN             NaN   \n...               ...             ...             ...             ...   \n25974             3.0             3.0             3.0             3.0   \n25975             3.0             3.0             3.0             7.0   \n25976             3.0             3.0             3.0             3.0   \n25977             3.0             3.0             3.0             3.0   \n25978             3.0             3.0             3.0             3.0   \n\n       home_player_Y6  home_player_Y7  home_player_Y8  home_player_Y9  \\\n0                 NaN             NaN             NaN             NaN   \n1                 NaN             NaN             NaN             NaN   \n2                 NaN             NaN             NaN             NaN   \n3                 NaN             NaN             NaN             NaN   \n4                 NaN             NaN             NaN             NaN   \n...               ...             ...             ...             ...   \n25974             6.0             6.0             8.0             8.0   \n25975             7.0             7.0             7.0             9.0   \n25976             6.0             6.0             8.0             8.0   \n25977             7.0             7.0             7.0            10.0   \n25978             7.0             7.0             7.0             7.0   \n\n       home_player_Y10  home_player_Y11  away_player_Y1  away_player_Y2  \\\n0                  NaN              NaN             NaN             NaN   \n1                  NaN              NaN             NaN             NaN   \n2                  NaN              NaN             NaN             NaN   \n3                  NaN              NaN             NaN             NaN   \n4                  NaN              NaN             NaN             NaN   \n...                ...              ...             ...             ...   \n25974              8.0             11.0             1.0             3.0   \n25975             11.0             11.0             1.0             3.0   \n25976              8.0             11.0             1.0             3.0   \n25977             10.0             10.0             1.0             3.0   \n25978             10.0             10.0             1.0             3.0   \n\n       away_player_Y3  away_player_Y4  away_player_Y5  away_player_Y6  ...  \\\n0                 NaN             NaN             NaN             NaN  ...   \n1                 NaN             NaN             NaN             NaN  ...   \n2                 NaN             NaN             NaN             NaN  ...   \n3                 NaN             NaN             NaN             NaN  ...   \n4                 NaN             NaN             NaN             NaN  ...   \n...               ...             ...             ...             ...  ...   \n25974             3.0             3.0             3.0             6.0  ...   \n25975             3.0             3.0             3.0             7.0  ...   \n25976             3.0             3.0             3.0             6.0  ...   \n25977             3.0             3.0             3.0             6.0  ...   \n25978             3.0             3.0             3.0             6.0  ...   \n\n       home_player_11  away_player_1  away_player_2  away_player_3  \\\n0                 NaN            NaN            NaN            NaN   \n1                 NaN            NaN            NaN            NaN   \n2                 NaN            NaN            NaN            NaN   \n3                 NaN            NaN            NaN            NaN   \n4                 NaN            NaN            NaN            NaN   \n...               ...            ...            ...            ...   \n25974        195215.0       462944.0       563066.0         8800.0   \n25975         37257.0        42276.0       114792.0       150007.0   \n25976        289472.0        10637.0        67349.0       202663.0   \n25977        178142.0       274776.0       121080.0       197757.0   \n25978         71764.0       156175.0        95216.0       172768.0   \n\n       away_player_4  away_player_5  away_player_6  away_player_7  \\\n0                NaN            NaN            NaN            NaN   \n1                NaN            NaN            NaN            NaN   \n2                NaN            NaN            NaN            NaN   \n3                NaN            NaN            NaN            NaN   \n4                NaN            NaN            NaN            NaN   \n...              ...            ...            ...            ...   \n25974        67304.0       158253.0       133126.0       186524.0   \n25975       178119.0        27232.0       570830.0       260708.0   \n25976        32597.0       114794.0       188114.0        25840.0   \n25977       260964.0       231614.0       113235.0        41116.0   \n25978        22834.0       458806.0       207234.0        25772.0   \n\n       away_player_8  away_player_9  away_player_10  away_player_11  goal  \\\n0                NaN            NaN             NaN             NaN  None   \n1                NaN            NaN             NaN             NaN  None   \n2                NaN            NaN             NaN             NaN  None   \n3                NaN            NaN             NaN             NaN  None   \n4                NaN            NaN             NaN             NaN  None   \n...              ...            ...             ...             ...   ...   \n25974        93223.0       121115.0        232110.0        289732.0  None   \n25975       201704.0        36382.0         34082.0         95257.0  None   \n25976       482200.0        95230.0        451335.0        275122.0  None   \n25977       462608.0        42262.0         92252.0        194532.0  None   \n25978        40274.0        34035.0         41726.0        527103.0  None   \n\n       shoton  shotoff  foulcommit  card  cross  corner  possession  B365H  \\\n0        None     None        None  None   None    None        None   1.73   \n1        None     None        None  None   None    None        None   1.95   \n2        None     None        None  None   None    None        None   2.38   \n3        None     None        None  None   None    None        None   1.44   \n4        None     None        None  None   None    None        None   5.00   \n...       ...      ...         ...   ...    ...     ...         ...    ...   \n25974    None     None        None  None   None    None        None    NaN   \n25975    None     None        None  None   None    None        None    NaN   \n25976    None     None        None  None   None    None        None    NaN   \n25977    None     None        None  None   None    None        None    NaN   \n25978    None     None        None  None   None    None        None    NaN   \n\n       B365D  B365A   BWH   BWD   BWA   IWH  IWD  IWA   LBH  LBD   LBA PSH  \\\n0       3.40   5.00  1.75  3.35  4.20  1.85  3.2  3.5  1.80  3.3  3.75 NaN   \n1       3.20   3.60  1.80  3.30  3.95  1.90  3.2  3.5  1.90  3.2  3.50 NaN   \n2       3.30   2.75  2.40  3.30  2.55  2.60  3.1  2.3  2.50  3.2  2.50 NaN   \n3       3.75   7.50  1.40  4.00  6.80  1.40  3.9  6.0  1.44  3.6  6.50 NaN   \n4       3.50   1.65  5.00  3.50  1.60  4.00  3.3  1.7  4.00  3.4  1.72 NaN   \n...      ...    ...   ...   ...   ...   ...  ...  ...   ...  ...   ...  ..   \n25974    NaN    NaN   NaN   NaN   NaN   NaN  NaN  NaN   NaN  NaN   NaN NaN   \n25975    NaN    NaN   NaN   NaN   NaN   NaN  NaN  NaN   NaN  NaN   NaN NaN   \n25976    NaN    NaN   NaN   NaN   NaN   NaN  NaN  NaN   NaN  NaN   NaN NaN   \n25977    NaN    NaN   NaN   NaN   NaN   NaN  NaN  NaN   NaN  NaN   NaN NaN   \n25978    NaN    NaN   NaN   NaN   NaN   NaN  NaN  NaN   NaN  NaN   NaN NaN   \n\n      PSD PSA   WHH   WHD   WHA   SJH  SJD   SJA   VCH   VCD   VCA   GBH  \\\n0     NaN NaN  1.70  3.30  4.33  1.90  3.3  4.00  1.65  3.40  4.50  1.78   \n1     NaN NaN  1.83  3.30  3.60  1.95  3.3  3.80  2.00  3.25  3.25  1.85   \n2     NaN NaN  2.50  3.25  2.40  2.63  3.3  2.50  2.35  3.25  2.65  2.50   \n3     NaN NaN  1.44  3.75  6.00  1.44  4.0  7.50  1.45  3.75  6.50  1.50   \n4     NaN NaN  4.20  3.40  1.70  4.50  3.5  1.73  4.50  3.40  1.65  4.50   \n...    ..  ..   ...   ...   ...   ...  ...   ...   ...   ...   ...   ...   \n25974 NaN NaN   NaN   NaN   NaN   NaN  NaN   NaN   NaN   NaN   NaN   NaN   \n25975 NaN NaN   NaN   NaN   NaN   NaN  NaN   NaN   NaN   NaN   NaN   NaN   \n25976 NaN NaN   NaN   NaN   NaN   NaN  NaN   NaN   NaN   NaN   NaN   NaN   \n25977 NaN NaN   NaN   NaN   NaN   NaN  NaN   NaN   NaN   NaN   NaN   NaN   \n25978 NaN NaN   NaN   NaN   NaN   NaN  NaN   NaN   NaN   NaN   NaN   NaN   \n\n        GBD   GBA   BSH   BSD   BSA  \n0      3.25  4.00  1.73  3.40  4.20  \n1      3.25  3.75  1.91  3.25  3.60  \n2      3.20  2.50  2.30  3.20  2.75  \n3      3.75  5.50  1.44  3.75  6.50  \n4      3.50  1.65  4.75  3.30  1.67  \n...     ...   ...   ...   ...   ...  \n25974   NaN   NaN   NaN   NaN   NaN  \n25975   NaN   NaN   NaN   NaN   NaN  \n25976   NaN   NaN   NaN   NaN   NaN  \n25977   NaN   NaN   NaN   NaN   NaN  \n25978   NaN   NaN   NaN   NaN   NaN  \n\n[25979 rows x 115 columns]",
      "text/html": "<div>\n<style scoped>\n    .dataframe tbody tr th:only-of-type {\n        vertical-align: middle;\n    }\n\n    .dataframe tbody tr th {\n        vertical-align: top;\n    }\n\n    .dataframe thead th {\n        text-align: right;\n    }\n</style>\n<table border=\"1\" class=\"dataframe\">\n  <thead>\n    <tr style=\"text-align: right;\">\n      <th></th>\n      <th>id</th>\n      <th>country_id</th>\n      <th>league_id</th>\n      <th>season</th>\n      <th>stage</th>\n      <th>date</th>\n      <th>match_api_id</th>\n      <th>home_team_api_id</th>\n      <th>away_team_api_id</th>\n      <th>home_team_goal</th>\n      <th>away_team_goal</th>\n      <th>home_player_X1</th>\n      <th>home_player_X2</th>\n      <th>home_player_X3</th>\n      <th>home_player_X4</th>\n      <th>home_player_X5</th>\n      <th>home_player_X6</th>\n      <th>home_player_X7</th>\n      <th>home_player_X8</th>\n      <th>home_player_X9</th>\n      <th>home_player_X10</th>\n      <th>home_player_X11</th>\n      <th>away_player_X1</th>\n      <th>away_player_X2</th>\n      <th>away_player_X3</th>\n      <th>away_player_X4</th>\n      <th>away_player_X5</th>\n      <th>away_player_X6</th>\n      <th>away_player_X7</th>\n      <th>away_player_X8</th>\n      <th>away_player_X9</th>\n      <th>away_player_X10</th>\n      <th>away_player_X11</th>\n      <th>home_player_Y1</th>\n      <th>home_player_Y2</th>\n      <th>home_player_Y3</th>\n      <th>home_player_Y4</th>\n      <th>home_player_Y5</th>\n      <th>home_player_Y6</th>\n      <th>home_player_Y7</th>\n      <th>home_player_Y8</th>\n      <th>home_player_Y9</th>\n      <th>home_player_Y10</th>\n      <th>home_player_Y11</th>\n      <th>away_player_Y1</th>\n      <th>away_player_Y2</th>\n      <th>away_player_Y3</th>\n      <th>away_player_Y4</th>\n      <th>away_player_Y5</th>\n      <th>away_player_Y6</th>\n      <th>...</th>\n      <th>home_player_11</th>\n      <th>away_player_1</th>\n      <th>away_player_2</th>\n      <th>away_player_3</th>\n      <th>away_player_4</th>\n      <th>away_player_5</th>\n      <th>away_player_6</th>\n      <th>away_player_7</th>\n      <th>away_player_8</th>\n      <th>away_player_9</th>\n      <th>away_player_10</th>\n      <th>away_player_11</th>\n      <th>goal</th>\n      <th>shoton</th>\n      <th>shotoff</th>\n      <th>foulcommit</th>\n      <th>card</th>\n      <th>cross</th>\n      <th>corner</th>\n      <th>possession</th>\n      <th>B365H</th>\n      <th>B365D</th>\n      <th>B365A</th>\n      <th>BWH</th>\n      <th>BWD</th>\n      <th>BWA</th>\n      <th>IWH</th>\n      <th>IWD</th>\n      <th>IWA</th>\n      <th>LBH</th>\n      <th>LBD</th>\n      <th>LBA</th>\n      <th>PSH</th>\n      <th>PSD</th>\n      <th>PSA</th>\n      <th>WHH</th>\n      <th>WHD</th>\n      <th>WHA</th>\n      <th>SJH</th>\n      <th>SJD</th>\n      <th>SJA</th>\n      <th>VCH</th>\n      <th>VCD</th>\n      <th>VCA</th>\n      <th>GBH</th>\n      <th>GBD</th>\n      <th>GBA</th>\n      <th>BSH</th>\n      <th>BSD</th>\n      <th>BSA</th>\n    </tr>\n  </thead>\n  <tbody>\n    <tr>\n      <th>0</th>\n      <td>1</td>\n      <td>1</td>\n      <td>1</td>\n      <td>2008/2009</td>\n      <td>1</td>\n      <td>2008-08-17 00:00:00</td>\n      <td>492473</td>\n      <td>9987</td>\n      <td>9993</td>\n      <td>1</td>\n      <td>1</td>\n      <td>NaN</td>\n      <td>NaN</td>\n      <td>NaN</td>\n      <td>NaN</td>\n      <td>NaN</td>\n      <td>NaN</td>\n      <td>NaN</td>\n      <td>NaN</td>\n      <td>NaN</td>\n      <td>NaN</td>\n      <td>NaN</td>\n      <td>NaN</td>\n      <td>NaN</td>\n      <td>NaN</td>\n      <td>NaN</td>\n      <td>NaN</td>\n      <td>NaN</td>\n      <td>NaN</td>\n      <td>NaN</td>\n      <td>NaN</td>\n      <td>NaN</td>\n      <td>NaN</td>\n      <td>NaN</td>\n      <td>NaN</td>\n      <td>NaN</td>\n      <td>NaN</td>\n      <td>NaN</td>\n      <td>NaN</td>\n      <td>NaN</td>\n      <td>NaN</td>\n      <td>NaN</td>\n      <td>NaN</td>\n      <td>NaN</td>\n      <td>NaN</td>\n      <td>NaN</td>\n      <td>NaN</td>\n      <td>NaN</td>\n      <td>NaN</td>\n      <td>NaN</td>\n      <td>...</td>\n      <td>NaN</td>\n      <td>NaN</td>\n      <td>NaN</td>\n      <td>NaN</td>\n      <td>NaN</td>\n      <td>NaN</td>\n      <td>NaN</td>\n      <td>NaN</td>\n      <td>NaN</td>\n      <td>NaN</td>\n      <td>NaN</td>\n      <td>NaN</td>\n      <td>None</td>\n      <td>None</td>\n      <td>None</td>\n      <td>None</td>\n      <td>None</td>\n      <td>None</td>\n      <td>None</td>\n      <td>None</td>\n      <td>1.73</td>\n      <td>3.40</td>\n      <td>5.00</td>\n      <td>1.75</td>\n      <td>3.35</td>\n      <td>4.20</td>\n      <td>1.85</td>\n      <td>3.2</td>\n      <td>3.5</td>\n      <td>1.80</td>\n      <td>3.3</td>\n      <td>3.75</td>\n      <td>NaN</td>\n      <td>NaN</td>\n      <td>NaN</td>\n      <td>1.70</td>\n      <td>3.30</td>\n      <td>4.33</td>\n      <td>1.90</td>\n      <td>3.3</td>\n      <td>4.00</td>\n      <td>1.65</td>\n      <td>3.40</td>\n      <td>4.50</td>\n      <td>1.78</td>\n      <td>3.25</td>\n      <td>4.00</td>\n      <td>1.73</td>\n      <td>3.40</td>\n      <td>4.20</td>\n    </tr>\n    <tr>\n      <th>1</th>\n      <td>2</td>\n      <td>1</td>\n      <td>1</td>\n      <td>2008/2009</td>\n      <td>1</td>\n      <td>2008-08-16 00:00:00</td>\n      <td>492474</td>\n      <td>10000</td>\n      <td>9994</td>\n      <td>0</td>\n      <td>0</td>\n      <td>NaN</td>\n      <td>NaN</td>\n      <td>NaN</td>\n      <td>NaN</td>\n      <td>NaN</td>\n      <td>NaN</td>\n      <td>NaN</td>\n      <td>NaN</td>\n      <td>NaN</td>\n      <td>NaN</td>\n      <td>NaN</td>\n      <td>NaN</td>\n      <td>NaN</td>\n      <td>NaN</td>\n      <td>NaN</td>\n      <td>NaN</td>\n      <td>NaN</td>\n      <td>NaN</td>\n      <td>NaN</td>\n      <td>NaN</td>\n      <td>NaN</td>\n      <td>NaN</td>\n      <td>NaN</td>\n      <td>NaN</td>\n      <td>NaN</td>\n      <td>NaN</td>\n      <td>NaN</td>\n      <td>NaN</td>\n      <td>NaN</td>\n      <td>NaN</td>\n      <td>NaN</td>\n      <td>NaN</td>\n      <td>NaN</td>\n      <td>NaN</td>\n      <td>NaN</td>\n      <td>NaN</td>\n      <td>NaN</td>\n      <td>NaN</td>\n      <td>NaN</td>\n      <td>...</td>\n      <td>NaN</td>\n      <td>NaN</td>\n      <td>NaN</td>\n      <td>NaN</td>\n      <td>NaN</td>\n      <td>NaN</td>\n      <td>NaN</td>\n      <td>NaN</td>\n      <td>NaN</td>\n      <td>NaN</td>\n      <td>NaN</td>\n      <td>NaN</td>\n      <td>None</td>\n      <td>None</td>\n      <td>None</td>\n      <td>None</td>\n      <td>None</td>\n      <td>None</td>\n      <td>None</td>\n      <td>None</td>\n      <td>1.95</td>\n      <td>3.20</td>\n      <td>3.60</td>\n      <td>1.80</td>\n      <td>3.30</td>\n      <td>3.95</td>\n      <td>1.90</td>\n      <td>3.2</td>\n      <td>3.5</td>\n      <td>1.90</td>\n      <td>3.2</td>\n      <td>3.50</td>\n      <td>NaN</td>\n      <td>NaN</td>\n      <td>NaN</td>\n      <td>1.83</td>\n      <td>3.30</td>\n      <td>3.60</td>\n      <td>1.95</td>\n      <td>3.3</td>\n      <td>3.80</td>\n      <td>2.00</td>\n      <td>3.25</td>\n      <td>3.25</td>\n      <td>1.85</td>\n      <td>3.25</td>\n      <td>3.75</td>\n      <td>1.91</td>\n      <td>3.25</td>\n      <td>3.60</td>\n    </tr>\n    <tr>\n      <th>2</th>\n      <td>3</td>\n      <td>1</td>\n      <td>1</td>\n      <td>2008/2009</td>\n      <td>1</td>\n      <td>2008-08-16 00:00:00</td>\n      <td>492475</td>\n      <td>9984</td>\n      <td>8635</td>\n      <td>0</td>\n      <td>3</td>\n      <td>NaN</td>\n      <td>NaN</td>\n      <td>NaN</td>\n      <td>NaN</td>\n      <td>NaN</td>\n      <td>NaN</td>\n      <td>NaN</td>\n      <td>NaN</td>\n      <td>NaN</td>\n      <td>NaN</td>\n      <td>NaN</td>\n      <td>NaN</td>\n      <td>NaN</td>\n      <td>NaN</td>\n      <td>NaN</td>\n      <td>NaN</td>\n      <td>NaN</td>\n      <td>NaN</td>\n      <td>NaN</td>\n      <td>NaN</td>\n      <td>NaN</td>\n      <td>NaN</td>\n      <td>NaN</td>\n      <td>NaN</td>\n      <td>NaN</td>\n      <td>NaN</td>\n      <td>NaN</td>\n      <td>NaN</td>\n      <td>NaN</td>\n      <td>NaN</td>\n      <td>NaN</td>\n      <td>NaN</td>\n      <td>NaN</td>\n      <td>NaN</td>\n      <td>NaN</td>\n      <td>NaN</td>\n      <td>NaN</td>\n      <td>NaN</td>\n      <td>NaN</td>\n      <td>...</td>\n      <td>NaN</td>\n      <td>NaN</td>\n      <td>NaN</td>\n      <td>NaN</td>\n      <td>NaN</td>\n      <td>NaN</td>\n      <td>NaN</td>\n      <td>NaN</td>\n      <td>NaN</td>\n      <td>NaN</td>\n      <td>NaN</td>\n      <td>NaN</td>\n      <td>None</td>\n      <td>None</td>\n      <td>None</td>\n      <td>None</td>\n      <td>None</td>\n      <td>None</td>\n      <td>None</td>\n      <td>None</td>\n      <td>2.38</td>\n      <td>3.30</td>\n      <td>2.75</td>\n      <td>2.40</td>\n      <td>3.30</td>\n      <td>2.55</td>\n      <td>2.60</td>\n      <td>3.1</td>\n      <td>2.3</td>\n      <td>2.50</td>\n      <td>3.2</td>\n      <td>2.50</td>\n      <td>NaN</td>\n      <td>NaN</td>\n      <td>NaN</td>\n      <td>2.50</td>\n      <td>3.25</td>\n      <td>2.40</td>\n      <td>2.63</td>\n      <td>3.3</td>\n      <td>2.50</td>\n      <td>2.35</td>\n      <td>3.25</td>\n      <td>2.65</td>\n      <td>2.50</td>\n      <td>3.20</td>\n      <td>2.50</td>\n      <td>2.30</td>\n      <td>3.20</td>\n      <td>2.75</td>\n    </tr>\n    <tr>\n      <th>3</th>\n      <td>4</td>\n      <td>1</td>\n      <td>1</td>\n      <td>2008/2009</td>\n      <td>1</td>\n      <td>2008-08-17 00:00:00</td>\n      <td>492476</td>\n      <td>9991</td>\n      <td>9998</td>\n      <td>5</td>\n      <td>0</td>\n      <td>NaN</td>\n      <td>NaN</td>\n      <td>NaN</td>\n      <td>NaN</td>\n      <td>NaN</td>\n      <td>NaN</td>\n      <td>NaN</td>\n      <td>NaN</td>\n      <td>NaN</td>\n      <td>NaN</td>\n      <td>NaN</td>\n      <td>NaN</td>\n      <td>NaN</td>\n      <td>NaN</td>\n      <td>NaN</td>\n      <td>NaN</td>\n      <td>NaN</td>\n      <td>NaN</td>\n      <td>NaN</td>\n      <td>NaN</td>\n      <td>NaN</td>\n      <td>NaN</td>\n      <td>NaN</td>\n      <td>NaN</td>\n      <td>NaN</td>\n      <td>NaN</td>\n      <td>NaN</td>\n      <td>NaN</td>\n      <td>NaN</td>\n      <td>NaN</td>\n      <td>NaN</td>\n      <td>NaN</td>\n      <td>NaN</td>\n      <td>NaN</td>\n      <td>NaN</td>\n      <td>NaN</td>\n      <td>NaN</td>\n      <td>NaN</td>\n      <td>NaN</td>\n      <td>...</td>\n      <td>NaN</td>\n      <td>NaN</td>\n      <td>NaN</td>\n      <td>NaN</td>\n      <td>NaN</td>\n      <td>NaN</td>\n      <td>NaN</td>\n      <td>NaN</td>\n      <td>NaN</td>\n      <td>NaN</td>\n      <td>NaN</td>\n      <td>NaN</td>\n      <td>None</td>\n      <td>None</td>\n      <td>None</td>\n      <td>None</td>\n      <td>None</td>\n      <td>None</td>\n      <td>None</td>\n      <td>None</td>\n      <td>1.44</td>\n      <td>3.75</td>\n      <td>7.50</td>\n      <td>1.40</td>\n      <td>4.00</td>\n      <td>6.80</td>\n      <td>1.40</td>\n      <td>3.9</td>\n      <td>6.0</td>\n      <td>1.44</td>\n      <td>3.6</td>\n      <td>6.50</td>\n      <td>NaN</td>\n      <td>NaN</td>\n      <td>NaN</td>\n      <td>1.44</td>\n      <td>3.75</td>\n      <td>6.00</td>\n      <td>1.44</td>\n      <td>4.0</td>\n      <td>7.50</td>\n      <td>1.45</td>\n      <td>3.75</td>\n      <td>6.50</td>\n      <td>1.50</td>\n      <td>3.75</td>\n      <td>5.50</td>\n      <td>1.44</td>\n      <td>3.75</td>\n      <td>6.50</td>\n    </tr>\n    <tr>\n      <th>4</th>\n      <td>5</td>\n      <td>1</td>\n      <td>1</td>\n      <td>2008/2009</td>\n      <td>1</td>\n      <td>2008-08-16 00:00:00</td>\n      <td>492477</td>\n      <td>7947</td>\n      <td>9985</td>\n      <td>1</td>\n      <td>3</td>\n      <td>NaN</td>\n      <td>NaN</td>\n      <td>NaN</td>\n      <td>NaN</td>\n      <td>NaN</td>\n      <td>NaN</td>\n      <td>NaN</td>\n      <td>NaN</td>\n      <td>NaN</td>\n      <td>NaN</td>\n      <td>NaN</td>\n      <td>NaN</td>\n      <td>NaN</td>\n      <td>NaN</td>\n      <td>NaN</td>\n      <td>NaN</td>\n      <td>NaN</td>\n      <td>NaN</td>\n      <td>NaN</td>\n      <td>NaN</td>\n      <td>NaN</td>\n      <td>NaN</td>\n      <td>NaN</td>\n      <td>NaN</td>\n      <td>NaN</td>\n      <td>NaN</td>\n      <td>NaN</td>\n      <td>NaN</td>\n      <td>NaN</td>\n      <td>NaN</td>\n      <td>NaN</td>\n      <td>NaN</td>\n      <td>NaN</td>\n      <td>NaN</td>\n      <td>NaN</td>\n      <td>NaN</td>\n      <td>NaN</td>\n      <td>NaN</td>\n      <td>NaN</td>\n      <td>...</td>\n      <td>NaN</td>\n      <td>NaN</td>\n      <td>NaN</td>\n      <td>NaN</td>\n      <td>NaN</td>\n      <td>NaN</td>\n      <td>NaN</td>\n      <td>NaN</td>\n      <td>NaN</td>\n      <td>NaN</td>\n      <td>NaN</td>\n      <td>NaN</td>\n      <td>None</td>\n      <td>None</td>\n      <td>None</td>\n      <td>None</td>\n      <td>None</td>\n      <td>None</td>\n      <td>None</td>\n      <td>None</td>\n      <td>5.00</td>\n      <td>3.50</td>\n      <td>1.65</td>\n      <td>5.00</td>\n      <td>3.50</td>\n      <td>1.60</td>\n      <td>4.00</td>\n      <td>3.3</td>\n      <td>1.7</td>\n      <td>4.00</td>\n      <td>3.4</td>\n      <td>1.72</td>\n      <td>NaN</td>\n      <td>NaN</td>\n      <td>NaN</td>\n      <td>4.20</td>\n      <td>3.40</td>\n      <td>1.70</td>\n      <td>4.50</td>\n      <td>3.5</td>\n      <td>1.73</td>\n      <td>4.50</td>\n      <td>3.40</td>\n      <td>1.65</td>\n      <td>4.50</td>\n      <td>3.50</td>\n      <td>1.65</td>\n      <td>4.75</td>\n      <td>3.30</td>\n      <td>1.67</td>\n    </tr>\n    <tr>\n      <th>...</th>\n      <td>...</td>\n      <td>...</td>\n      <td>...</td>\n      <td>...</td>\n      <td>...</td>\n      <td>...</td>\n      <td>...</td>\n      <td>...</td>\n      <td>...</td>\n      <td>...</td>\n      <td>...</td>\n      <td>...</td>\n      <td>...</td>\n      <td>...</td>\n      <td>...</td>\n      <td>...</td>\n      <td>...</td>\n      <td>...</td>\n      <td>...</td>\n      <td>...</td>\n      <td>...</td>\n      <td>...</td>\n      <td>...</td>\n      <td>...</td>\n      <td>...</td>\n      <td>...</td>\n      <td>...</td>\n      <td>...</td>\n      <td>...</td>\n      <td>...</td>\n      <td>...</td>\n      <td>...</td>\n      <td>...</td>\n      <td>...</td>\n      <td>...</td>\n      <td>...</td>\n      <td>...</td>\n      <td>...</td>\n      <td>...</td>\n      <td>...</td>\n      <td>...</td>\n      <td>...</td>\n      <td>...</td>\n      <td>...</td>\n      <td>...</td>\n      <td>...</td>\n      <td>...</td>\n      <td>...</td>\n      <td>...</td>\n      <td>...</td>\n      <td>...</td>\n      <td>...</td>\n      <td>...</td>\n      <td>...</td>\n      <td>...</td>\n      <td>...</td>\n      <td>...</td>\n      <td>...</td>\n      <td>...</td>\n      <td>...</td>\n      <td>...</td>\n      <td>...</td>\n      <td>...</td>\n      <td>...</td>\n      <td>...</td>\n      <td>...</td>\n      <td>...</td>\n      <td>...</td>\n      <td>...</td>\n      <td>...</td>\n      <td>...</td>\n      <td>...</td>\n      <td>...</td>\n      <td>...</td>\n      <td>...</td>\n      <td>...</td>\n      <td>...</td>\n      <td>...</td>\n      <td>...</td>\n      <td>...</td>\n      <td>...</td>\n      <td>...</td>\n      <td>...</td>\n      <td>...</td>\n      <td>...</td>\n      <td>...</td>\n      <td>...</td>\n      <td>...</td>\n      <td>...</td>\n      <td>...</td>\n      <td>...</td>\n      <td>...</td>\n      <td>...</td>\n      <td>...</td>\n      <td>...</td>\n      <td>...</td>\n      <td>...</td>\n      <td>...</td>\n      <td>...</td>\n      <td>...</td>\n      <td>...</td>\n    </tr>\n    <tr>\n      <th>25974</th>\n      <td>25975</td>\n      <td>24558</td>\n      <td>24558</td>\n      <td>2015/2016</td>\n      <td>9</td>\n      <td>2015-09-22 00:00:00</td>\n      <td>1992091</td>\n      <td>10190</td>\n      <td>10191</td>\n      <td>1</td>\n      <td>0</td>\n      <td>1.0</td>\n      <td>2.0</td>\n      <td>4.0</td>\n      <td>6.0</td>\n      <td>8.0</td>\n      <td>4.0</td>\n      <td>6.0</td>\n      <td>3.0</td>\n      <td>5.0</td>\n      <td>7.0</td>\n      <td>5.0</td>\n      <td>1.0</td>\n      <td>2.0</td>\n      <td>4.0</td>\n      <td>6.0</td>\n      <td>8.0</td>\n      <td>4.0</td>\n      <td>6.0</td>\n      <td>3.0</td>\n      <td>5.0</td>\n      <td>7.0</td>\n      <td>5.0</td>\n      <td>1.0</td>\n      <td>3.0</td>\n      <td>3.0</td>\n      <td>3.0</td>\n      <td>3.0</td>\n      <td>6.0</td>\n      <td>6.0</td>\n      <td>8.0</td>\n      <td>8.0</td>\n      <td>8.0</td>\n      <td>11.0</td>\n      <td>1.0</td>\n      <td>3.0</td>\n      <td>3.0</td>\n      <td>3.0</td>\n      <td>3.0</td>\n      <td>6.0</td>\n      <td>...</td>\n      <td>195215.0</td>\n      <td>462944.0</td>\n      <td>563066.0</td>\n      <td>8800.0</td>\n      <td>67304.0</td>\n      <td>158253.0</td>\n      <td>133126.0</td>\n      <td>186524.0</td>\n      <td>93223.0</td>\n      <td>121115.0</td>\n      <td>232110.0</td>\n      <td>289732.0</td>\n      <td>None</td>\n      <td>None</td>\n      <td>None</td>\n      <td>None</td>\n      <td>None</td>\n      <td>None</td>\n      <td>None</td>\n      <td>None</td>\n      <td>NaN</td>\n      <td>NaN</td>\n      <td>NaN</td>\n      <td>NaN</td>\n      <td>NaN</td>\n      <td>NaN</td>\n      <td>NaN</td>\n      <td>NaN</td>\n      <td>NaN</td>\n      <td>NaN</td>\n      <td>NaN</td>\n      <td>NaN</td>\n      <td>NaN</td>\n      <td>NaN</td>\n      <td>NaN</td>\n      <td>NaN</td>\n      <td>NaN</td>\n      <td>NaN</td>\n      <td>NaN</td>\n      <td>NaN</td>\n      <td>NaN</td>\n      <td>NaN</td>\n      <td>NaN</td>\n      <td>NaN</td>\n      <td>NaN</td>\n      <td>NaN</td>\n      <td>NaN</td>\n      <td>NaN</td>\n      <td>NaN</td>\n      <td>NaN</td>\n    </tr>\n    <tr>\n      <th>25975</th>\n      <td>25976</td>\n      <td>24558</td>\n      <td>24558</td>\n      <td>2015/2016</td>\n      <td>9</td>\n      <td>2015-09-23 00:00:00</td>\n      <td>1992092</td>\n      <td>9824</td>\n      <td>10199</td>\n      <td>1</td>\n      <td>2</td>\n      <td>1.0</td>\n      <td>3.0</td>\n      <td>5.0</td>\n      <td>7.0</td>\n      <td>2.0</td>\n      <td>4.0</td>\n      <td>6.0</td>\n      <td>8.0</td>\n      <td>5.0</td>\n      <td>4.0</td>\n      <td>6.0</td>\n      <td>1.0</td>\n      <td>2.0</td>\n      <td>4.0</td>\n      <td>6.0</td>\n      <td>8.0</td>\n      <td>3.0</td>\n      <td>5.0</td>\n      <td>7.0</td>\n      <td>3.0</td>\n      <td>5.0</td>\n      <td>7.0</td>\n      <td>1.0</td>\n      <td>3.0</td>\n      <td>3.0</td>\n      <td>3.0</td>\n      <td>7.0</td>\n      <td>7.0</td>\n      <td>7.0</td>\n      <td>7.0</td>\n      <td>9.0</td>\n      <td>11.0</td>\n      <td>11.0</td>\n      <td>1.0</td>\n      <td>3.0</td>\n      <td>3.0</td>\n      <td>3.0</td>\n      <td>3.0</td>\n      <td>7.0</td>\n      <td>...</td>\n      <td>37257.0</td>\n      <td>42276.0</td>\n      <td>114792.0</td>\n      <td>150007.0</td>\n      <td>178119.0</td>\n      <td>27232.0</td>\n      <td>570830.0</td>\n      <td>260708.0</td>\n      <td>201704.0</td>\n      <td>36382.0</td>\n      <td>34082.0</td>\n      <td>95257.0</td>\n      <td>None</td>\n      <td>None</td>\n      <td>None</td>\n      <td>None</td>\n      <td>None</td>\n      <td>None</td>\n      <td>None</td>\n      <td>None</td>\n      <td>NaN</td>\n      <td>NaN</td>\n      <td>NaN</td>\n      <td>NaN</td>\n      <td>NaN</td>\n      <td>NaN</td>\n      <td>NaN</td>\n      <td>NaN</td>\n      <td>NaN</td>\n      <td>NaN</td>\n      <td>NaN</td>\n      <td>NaN</td>\n      <td>NaN</td>\n      <td>NaN</td>\n      <td>NaN</td>\n      <td>NaN</td>\n      <td>NaN</td>\n      <td>NaN</td>\n      <td>NaN</td>\n      <td>NaN</td>\n      <td>NaN</td>\n      <td>NaN</td>\n      <td>NaN</td>\n      <td>NaN</td>\n      <td>NaN</td>\n      <td>NaN</td>\n      <td>NaN</td>\n      <td>NaN</td>\n      <td>NaN</td>\n      <td>NaN</td>\n    </tr>\n    <tr>\n      <th>25976</th>\n      <td>25977</td>\n      <td>24558</td>\n      <td>24558</td>\n      <td>2015/2016</td>\n      <td>9</td>\n      <td>2015-09-23 00:00:00</td>\n      <td>1992093</td>\n      <td>9956</td>\n      <td>10179</td>\n      <td>2</td>\n      <td>0</td>\n      <td>1.0</td>\n      <td>2.0</td>\n      <td>4.0</td>\n      <td>6.0</td>\n      <td>8.0</td>\n      <td>4.0</td>\n      <td>6.0</td>\n      <td>3.0</td>\n      <td>5.0</td>\n      <td>7.0</td>\n      <td>5.0</td>\n      <td>1.0</td>\n      <td>2.0</td>\n      <td>4.0</td>\n      <td>6.0</td>\n      <td>8.0</td>\n      <td>4.0</td>\n      <td>6.0</td>\n      <td>3.0</td>\n      <td>5.0</td>\n      <td>7.0</td>\n      <td>5.0</td>\n      <td>1.0</td>\n      <td>3.0</td>\n      <td>3.0</td>\n      <td>3.0</td>\n      <td>3.0</td>\n      <td>6.0</td>\n      <td>6.0</td>\n      <td>8.0</td>\n      <td>8.0</td>\n      <td>8.0</td>\n      <td>11.0</td>\n      <td>1.0</td>\n      <td>3.0</td>\n      <td>3.0</td>\n      <td>3.0</td>\n      <td>3.0</td>\n      <td>6.0</td>\n      <td>...</td>\n      <td>289472.0</td>\n      <td>10637.0</td>\n      <td>67349.0</td>\n      <td>202663.0</td>\n      <td>32597.0</td>\n      <td>114794.0</td>\n      <td>188114.0</td>\n      <td>25840.0</td>\n      <td>482200.0</td>\n      <td>95230.0</td>\n      <td>451335.0</td>\n      <td>275122.0</td>\n      <td>None</td>\n      <td>None</td>\n      <td>None</td>\n      <td>None</td>\n      <td>None</td>\n      <td>None</td>\n      <td>None</td>\n      <td>None</td>\n      <td>NaN</td>\n      <td>NaN</td>\n      <td>NaN</td>\n      <td>NaN</td>\n      <td>NaN</td>\n      <td>NaN</td>\n      <td>NaN</td>\n      <td>NaN</td>\n      <td>NaN</td>\n      <td>NaN</td>\n      <td>NaN</td>\n      <td>NaN</td>\n      <td>NaN</td>\n      <td>NaN</td>\n      <td>NaN</td>\n      <td>NaN</td>\n      <td>NaN</td>\n      <td>NaN</td>\n      <td>NaN</td>\n      <td>NaN</td>\n      <td>NaN</td>\n      <td>NaN</td>\n      <td>NaN</td>\n      <td>NaN</td>\n      <td>NaN</td>\n      <td>NaN</td>\n      <td>NaN</td>\n      <td>NaN</td>\n      <td>NaN</td>\n      <td>NaN</td>\n    </tr>\n    <tr>\n      <th>25977</th>\n      <td>25978</td>\n      <td>24558</td>\n      <td>24558</td>\n      <td>2015/2016</td>\n      <td>9</td>\n      <td>2015-09-22 00:00:00</td>\n      <td>1992094</td>\n      <td>7896</td>\n      <td>10243</td>\n      <td>0</td>\n      <td>0</td>\n      <td>1.0</td>\n      <td>2.0</td>\n      <td>4.0</td>\n      <td>6.0</td>\n      <td>8.0</td>\n      <td>3.0</td>\n      <td>7.0</td>\n      <td>5.0</td>\n      <td>3.0</td>\n      <td>5.0</td>\n      <td>7.0</td>\n      <td>1.0</td>\n      <td>2.0</td>\n      <td>4.0</td>\n      <td>6.0</td>\n      <td>8.0</td>\n      <td>4.0</td>\n      <td>6.0</td>\n      <td>3.0</td>\n      <td>5.0</td>\n      <td>7.0</td>\n      <td>5.0</td>\n      <td>1.0</td>\n      <td>3.0</td>\n      <td>3.0</td>\n      <td>3.0</td>\n      <td>3.0</td>\n      <td>7.0</td>\n      <td>7.0</td>\n      <td>7.0</td>\n      <td>10.0</td>\n      <td>10.0</td>\n      <td>10.0</td>\n      <td>1.0</td>\n      <td>3.0</td>\n      <td>3.0</td>\n      <td>3.0</td>\n      <td>3.0</td>\n      <td>6.0</td>\n      <td>...</td>\n      <td>178142.0</td>\n      <td>274776.0</td>\n      <td>121080.0</td>\n      <td>197757.0</td>\n      <td>260964.0</td>\n      <td>231614.0</td>\n      <td>113235.0</td>\n      <td>41116.0</td>\n      <td>462608.0</td>\n      <td>42262.0</td>\n      <td>92252.0</td>\n      <td>194532.0</td>\n      <td>None</td>\n      <td>None</td>\n      <td>None</td>\n      <td>None</td>\n      <td>None</td>\n      <td>None</td>\n      <td>None</td>\n      <td>None</td>\n      <td>NaN</td>\n      <td>NaN</td>\n      <td>NaN</td>\n      <td>NaN</td>\n      <td>NaN</td>\n      <td>NaN</td>\n      <td>NaN</td>\n      <td>NaN</td>\n      <td>NaN</td>\n      <td>NaN</td>\n      <td>NaN</td>\n      <td>NaN</td>\n      <td>NaN</td>\n      <td>NaN</td>\n      <td>NaN</td>\n      <td>NaN</td>\n      <td>NaN</td>\n      <td>NaN</td>\n      <td>NaN</td>\n      <td>NaN</td>\n      <td>NaN</td>\n      <td>NaN</td>\n      <td>NaN</td>\n      <td>NaN</td>\n      <td>NaN</td>\n      <td>NaN</td>\n      <td>NaN</td>\n      <td>NaN</td>\n      <td>NaN</td>\n      <td>NaN</td>\n    </tr>\n    <tr>\n      <th>25978</th>\n      <td>25979</td>\n      <td>24558</td>\n      <td>24558</td>\n      <td>2015/2016</td>\n      <td>9</td>\n      <td>2015-09-23 00:00:00</td>\n      <td>1992095</td>\n      <td>10192</td>\n      <td>9931</td>\n      <td>4</td>\n      <td>3</td>\n      <td>1.0</td>\n      <td>2.0</td>\n      <td>4.0</td>\n      <td>6.0</td>\n      <td>8.0</td>\n      <td>2.0</td>\n      <td>4.0</td>\n      <td>6.0</td>\n      <td>8.0</td>\n      <td>4.0</td>\n      <td>6.0</td>\n      <td>1.0</td>\n      <td>2.0</td>\n      <td>4.0</td>\n      <td>6.0</td>\n      <td>8.0</td>\n      <td>4.0</td>\n      <td>6.0</td>\n      <td>3.0</td>\n      <td>5.0</td>\n      <td>7.0</td>\n      <td>5.0</td>\n      <td>1.0</td>\n      <td>3.0</td>\n      <td>3.0</td>\n      <td>3.0</td>\n      <td>3.0</td>\n      <td>7.0</td>\n      <td>7.0</td>\n      <td>7.0</td>\n      <td>7.0</td>\n      <td>10.0</td>\n      <td>10.0</td>\n      <td>1.0</td>\n      <td>3.0</td>\n      <td>3.0</td>\n      <td>3.0</td>\n      <td>3.0</td>\n      <td>6.0</td>\n      <td>...</td>\n      <td>71764.0</td>\n      <td>156175.0</td>\n      <td>95216.0</td>\n      <td>172768.0</td>\n      <td>22834.0</td>\n      <td>458806.0</td>\n      <td>207234.0</td>\n      <td>25772.0</td>\n      <td>40274.0</td>\n      <td>34035.0</td>\n      <td>41726.0</td>\n      <td>527103.0</td>\n      <td>None</td>\n      <td>None</td>\n      <td>None</td>\n      <td>None</td>\n      <td>None</td>\n      <td>None</td>\n      <td>None</td>\n      <td>None</td>\n      <td>NaN</td>\n      <td>NaN</td>\n      <td>NaN</td>\n      <td>NaN</td>\n      <td>NaN</td>\n      <td>NaN</td>\n      <td>NaN</td>\n      <td>NaN</td>\n      <td>NaN</td>\n      <td>NaN</td>\n      <td>NaN</td>\n      <td>NaN</td>\n      <td>NaN</td>\n      <td>NaN</td>\n      <td>NaN</td>\n      <td>NaN</td>\n      <td>NaN</td>\n      <td>NaN</td>\n      <td>NaN</td>\n      <td>NaN</td>\n      <td>NaN</td>\n      <td>NaN</td>\n      <td>NaN</td>\n      <td>NaN</td>\n      <td>NaN</td>\n      <td>NaN</td>\n      <td>NaN</td>\n      <td>NaN</td>\n      <td>NaN</td>\n      <td>NaN</td>\n    </tr>\n  </tbody>\n</table>\n<p>25979 rows × 115 columns</p>\n</div>"
     },
     "execution_count": 6,
     "metadata": {},
     "output_type": "execute_result"
    }
   ],
   "source": [
    "#write your query\n",
    "matches = pd.read_sql(\"select * from `match`\", conn)\n",
    "matches"
   ]
  },
  {
   "cell_type": "markdown",
   "metadata": {},
   "source": [
    "## Question 6: Select match data includes league and country information\n",
    "\n",
    "The Match table has relation with:\n",
    " - Country table by country_id\n",
    " - League table by League_id\n",
    " \n",
    "Use the join sql statement to join 3 tables.\n"
   ]
  },
  {
   "cell_type": "code",
   "execution_count": 7,
   "metadata": {
    "ExecuteTime": {
     "end_time": "2023-07-24T12:46:55.358203400Z",
     "start_time": "2023-07-24T12:46:55.203516800Z"
    }
   },
   "outputs": [
    {
     "data": {
      "text/plain": "          season                 date  home_team_goal  away_team_goal  \\\n0      2008/2009  2008-08-17 00:00:00               1               1   \n1      2008/2009  2008-08-16 00:00:00               0               0   \n2      2008/2009  2008-08-16 00:00:00               0               3   \n3      2008/2009  2008-08-17 00:00:00               5               0   \n4      2008/2009  2008-08-16 00:00:00               1               3   \n...          ...                  ...             ...             ...   \n25974  2015/2016  2015-09-22 00:00:00               1               0   \n25975  2015/2016  2015-09-23 00:00:00               1               2   \n25976  2015/2016  2015-09-23 00:00:00               2               0   \n25977  2015/2016  2015-09-22 00:00:00               0               0   \n25978  2015/2016  2015-09-23 00:00:00               4               3   \n\n                         league      country  \n0        Belgium Jupiler League      Belgium  \n1        Belgium Jupiler League      Belgium  \n2        Belgium Jupiler League      Belgium  \n3        Belgium Jupiler League      Belgium  \n4        Belgium Jupiler League      Belgium  \n...                         ...          ...  \n25974  Switzerland Super League  Switzerland  \n25975  Switzerland Super League  Switzerland  \n25976  Switzerland Super League  Switzerland  \n25977  Switzerland Super League  Switzerland  \n25978  Switzerland Super League  Switzerland  \n\n[25979 rows x 6 columns]",
      "text/html": "<div>\n<style scoped>\n    .dataframe tbody tr th:only-of-type {\n        vertical-align: middle;\n    }\n\n    .dataframe tbody tr th {\n        vertical-align: top;\n    }\n\n    .dataframe thead th {\n        text-align: right;\n    }\n</style>\n<table border=\"1\" class=\"dataframe\">\n  <thead>\n    <tr style=\"text-align: right;\">\n      <th></th>\n      <th>season</th>\n      <th>date</th>\n      <th>home_team_goal</th>\n      <th>away_team_goal</th>\n      <th>league</th>\n      <th>country</th>\n    </tr>\n  </thead>\n  <tbody>\n    <tr>\n      <th>0</th>\n      <td>2008/2009</td>\n      <td>2008-08-17 00:00:00</td>\n      <td>1</td>\n      <td>1</td>\n      <td>Belgium Jupiler League</td>\n      <td>Belgium</td>\n    </tr>\n    <tr>\n      <th>1</th>\n      <td>2008/2009</td>\n      <td>2008-08-16 00:00:00</td>\n      <td>0</td>\n      <td>0</td>\n      <td>Belgium Jupiler League</td>\n      <td>Belgium</td>\n    </tr>\n    <tr>\n      <th>2</th>\n      <td>2008/2009</td>\n      <td>2008-08-16 00:00:00</td>\n      <td>0</td>\n      <td>3</td>\n      <td>Belgium Jupiler League</td>\n      <td>Belgium</td>\n    </tr>\n    <tr>\n      <th>3</th>\n      <td>2008/2009</td>\n      <td>2008-08-17 00:00:00</td>\n      <td>5</td>\n      <td>0</td>\n      <td>Belgium Jupiler League</td>\n      <td>Belgium</td>\n    </tr>\n    <tr>\n      <th>4</th>\n      <td>2008/2009</td>\n      <td>2008-08-16 00:00:00</td>\n      <td>1</td>\n      <td>3</td>\n      <td>Belgium Jupiler League</td>\n      <td>Belgium</td>\n    </tr>\n    <tr>\n      <th>...</th>\n      <td>...</td>\n      <td>...</td>\n      <td>...</td>\n      <td>...</td>\n      <td>...</td>\n      <td>...</td>\n    </tr>\n    <tr>\n      <th>25974</th>\n      <td>2015/2016</td>\n      <td>2015-09-22 00:00:00</td>\n      <td>1</td>\n      <td>0</td>\n      <td>Switzerland Super League</td>\n      <td>Switzerland</td>\n    </tr>\n    <tr>\n      <th>25975</th>\n      <td>2015/2016</td>\n      <td>2015-09-23 00:00:00</td>\n      <td>1</td>\n      <td>2</td>\n      <td>Switzerland Super League</td>\n      <td>Switzerland</td>\n    </tr>\n    <tr>\n      <th>25976</th>\n      <td>2015/2016</td>\n      <td>2015-09-23 00:00:00</td>\n      <td>2</td>\n      <td>0</td>\n      <td>Switzerland Super League</td>\n      <td>Switzerland</td>\n    </tr>\n    <tr>\n      <th>25977</th>\n      <td>2015/2016</td>\n      <td>2015-09-22 00:00:00</td>\n      <td>0</td>\n      <td>0</td>\n      <td>Switzerland Super League</td>\n      <td>Switzerland</td>\n    </tr>\n    <tr>\n      <th>25978</th>\n      <td>2015/2016</td>\n      <td>2015-09-23 00:00:00</td>\n      <td>4</td>\n      <td>3</td>\n      <td>Switzerland Super League</td>\n      <td>Switzerland</td>\n    </tr>\n  </tbody>\n</table>\n<p>25979 rows × 6 columns</p>\n</div>"
     },
     "execution_count": 7,
     "metadata": {},
     "output_type": "execute_result"
    }
   ],
   "source": [
    "# join two tables as below\n",
    "matches_with_team = pd.read_sql(\"\"\"\n",
    "    select m.season, m.date, m.home_team_goal, m.away_team_goal, l.name as league, c.name as country\n",
    "    from match as m\n",
    "    inner join league as l on m.league_id = l.id\n",
    "    inner join country as c on m.country_id = c.id\"\"\", conn)\n",
    "\n",
    "matches_with_team"
   ]
  },
  {
   "cell_type": "markdown",
   "metadata": {},
   "source": [
    "## Question 7: Get number of match by each league including league name, order the number of match by descending"
   ]
  },
  {
   "cell_type": "code",
   "execution_count": 8,
   "metadata": {
    "ExecuteTime": {
     "end_time": "2023-07-24T12:46:55.432075200Z",
     "start_time": "2023-07-24T12:46:55.359204100Z"
    }
   },
   "outputs": [
    {
     "data": {
      "text/plain": "    league_id                      name  number_of_matches\n0       21518           Spain LIGA BBVA               3040\n1        4769            France Ligue 1               3040\n2        1729    England Premier League               3040\n3       10257             Italy Serie A               3017\n4       13274    Netherlands Eredivisie               2448\n5        7809     Germany 1. Bundesliga               2448\n6       17642  Portugal Liga ZON Sagres               2052\n7       15722        Poland Ekstraklasa               1920\n8       19694   Scotland Premier League               1824\n9           1    Belgium Jupiler League               1728\n10      24558  Switzerland Super League               1422",
      "text/html": "<div>\n<style scoped>\n    .dataframe tbody tr th:only-of-type {\n        vertical-align: middle;\n    }\n\n    .dataframe tbody tr th {\n        vertical-align: top;\n    }\n\n    .dataframe thead th {\n        text-align: right;\n    }\n</style>\n<table border=\"1\" class=\"dataframe\">\n  <thead>\n    <tr style=\"text-align: right;\">\n      <th></th>\n      <th>league_id</th>\n      <th>name</th>\n      <th>number_of_matches</th>\n    </tr>\n  </thead>\n  <tbody>\n    <tr>\n      <th>0</th>\n      <td>21518</td>\n      <td>Spain LIGA BBVA</td>\n      <td>3040</td>\n    </tr>\n    <tr>\n      <th>1</th>\n      <td>4769</td>\n      <td>France Ligue 1</td>\n      <td>3040</td>\n    </tr>\n    <tr>\n      <th>2</th>\n      <td>1729</td>\n      <td>England Premier League</td>\n      <td>3040</td>\n    </tr>\n    <tr>\n      <th>3</th>\n      <td>10257</td>\n      <td>Italy Serie A</td>\n      <td>3017</td>\n    </tr>\n    <tr>\n      <th>4</th>\n      <td>13274</td>\n      <td>Netherlands Eredivisie</td>\n      <td>2448</td>\n    </tr>\n    <tr>\n      <th>5</th>\n      <td>7809</td>\n      <td>Germany 1. Bundesliga</td>\n      <td>2448</td>\n    </tr>\n    <tr>\n      <th>6</th>\n      <td>17642</td>\n      <td>Portugal Liga ZON Sagres</td>\n      <td>2052</td>\n    </tr>\n    <tr>\n      <th>7</th>\n      <td>15722</td>\n      <td>Poland Ekstraklasa</td>\n      <td>1920</td>\n    </tr>\n    <tr>\n      <th>8</th>\n      <td>19694</td>\n      <td>Scotland Premier League</td>\n      <td>1824</td>\n    </tr>\n    <tr>\n      <th>9</th>\n      <td>1</td>\n      <td>Belgium Jupiler League</td>\n      <td>1728</td>\n    </tr>\n    <tr>\n      <th>10</th>\n      <td>24558</td>\n      <td>Switzerland Super League</td>\n      <td>1422</td>\n    </tr>\n  </tbody>\n</table>\n</div>"
     },
     "execution_count": 8,
     "metadata": {},
     "output_type": "execute_result"
    }
   ],
   "source": [
    "# count the records after using group by statement with the `league_id` field\n",
    "matches_per_league = pd.read_sql(\"select m.league_id, l.name, count(*) as number_of_matches \"\n",
    "                                 \"from match as m, league as l \"\n",
    "                                 \"where m.league_id = l.id \"\n",
    "                                 \"group by m.league_id \"\n",
    "                                 \"order by number_of_matches desc \", conn)\n",
    "\n",
    "matches_per_league"
   ]
  },
  {
   "cell_type": "markdown",
   "metadata": {},
   "source": [
    "## Question 8: Get total goal of home team and away team in each league\n",
    "- use Group By statement"
   ]
  },
  {
   "cell_type": "code",
   "execution_count": 9,
   "metadata": {
    "ExecuteTime": {
     "end_time": "2023-07-24T12:46:55.512988Z",
     "start_time": "2023-07-24T12:46:55.421887900Z"
    }
   },
   "outputs": [
    {
     "data": {
      "text/plain": "    league_id                      name  total_home_goals  total_away_goals\n0       21518           Spain LIGA BBVA              4959              3453\n1        1729    England Premier League              4715              3525\n2       10257             Italy Serie A              4528              3367\n3       13274    Netherlands Eredivisie              4357              3185\n4        4769            France Ligue 1              4265              3162\n5        7809     Germany 1. Bundesliga              3982              3121\n6       17642  Portugal Liga ZON Sagres              2890              2311\n7           1    Belgium Jupiler League              2781              2060\n8       15722        Poland Ekstraklasa              2678              1978\n9       19694   Scotland Premier League              2607              2197\n10      24558  Switzerland Super League              2365              1801",
      "text/html": "<div>\n<style scoped>\n    .dataframe tbody tr th:only-of-type {\n        vertical-align: middle;\n    }\n\n    .dataframe tbody tr th {\n        vertical-align: top;\n    }\n\n    .dataframe thead th {\n        text-align: right;\n    }\n</style>\n<table border=\"1\" class=\"dataframe\">\n  <thead>\n    <tr style=\"text-align: right;\">\n      <th></th>\n      <th>league_id</th>\n      <th>name</th>\n      <th>total_home_goals</th>\n      <th>total_away_goals</th>\n    </tr>\n  </thead>\n  <tbody>\n    <tr>\n      <th>0</th>\n      <td>21518</td>\n      <td>Spain LIGA BBVA</td>\n      <td>4959</td>\n      <td>3453</td>\n    </tr>\n    <tr>\n      <th>1</th>\n      <td>1729</td>\n      <td>England Premier League</td>\n      <td>4715</td>\n      <td>3525</td>\n    </tr>\n    <tr>\n      <th>2</th>\n      <td>10257</td>\n      <td>Italy Serie A</td>\n      <td>4528</td>\n      <td>3367</td>\n    </tr>\n    <tr>\n      <th>3</th>\n      <td>13274</td>\n      <td>Netherlands Eredivisie</td>\n      <td>4357</td>\n      <td>3185</td>\n    </tr>\n    <tr>\n      <th>4</th>\n      <td>4769</td>\n      <td>France Ligue 1</td>\n      <td>4265</td>\n      <td>3162</td>\n    </tr>\n    <tr>\n      <th>5</th>\n      <td>7809</td>\n      <td>Germany 1. Bundesliga</td>\n      <td>3982</td>\n      <td>3121</td>\n    </tr>\n    <tr>\n      <th>6</th>\n      <td>17642</td>\n      <td>Portugal Liga ZON Sagres</td>\n      <td>2890</td>\n      <td>2311</td>\n    </tr>\n    <tr>\n      <th>7</th>\n      <td>1</td>\n      <td>Belgium Jupiler League</td>\n      <td>2781</td>\n      <td>2060</td>\n    </tr>\n    <tr>\n      <th>8</th>\n      <td>15722</td>\n      <td>Poland Ekstraklasa</td>\n      <td>2678</td>\n      <td>1978</td>\n    </tr>\n    <tr>\n      <th>9</th>\n      <td>19694</td>\n      <td>Scotland Premier League</td>\n      <td>2607</td>\n      <td>2197</td>\n    </tr>\n    <tr>\n      <th>10</th>\n      <td>24558</td>\n      <td>Switzerland Super League</td>\n      <td>2365</td>\n      <td>1801</td>\n    </tr>\n  </tbody>\n</table>\n</div>"
     },
     "execution_count": 9,
     "metadata": {},
     "output_type": "execute_result"
    }
   ],
   "source": [
    "# using group by statement with the `league_id` field\n",
    "total_goals = pd.read_sql(\"\"\"\n",
    "    select m.league_id, l.name, sum(m.home_team_goal) as total_home_goals, sum(m.away_team_goal) as total_away_goals\n",
    "    from match as m, league as l\n",
    "    where m.league_id = l.id\n",
    "    group by m.league_id\n",
    "    order by total_home_goals desc, total_away_goals desc \"\"\", conn)\n",
    "\n",
    "total_goals"
   ]
  },
  {
   "cell_type": "markdown",
   "metadata": {},
   "source": [
    "## Question 9: Select data from Team table"
   ]
  },
  {
   "cell_type": "code",
   "execution_count": 10,
   "metadata": {
    "ExecuteTime": {
     "end_time": "2023-07-24T12:46:55.519300200Z",
     "start_time": "2023-07-24T12:46:55.499127600Z"
    }
   },
   "outputs": [
    {
     "data": {
      "text/plain": "        id  team_api_id  team_fifa_api_id      team_long_name team_short_name\n0        1         9987             673.0            KRC Genk             GEN\n1        2         9993             675.0        Beerschot AC             BAC\n2        3        10000           15005.0    SV Zulte-Waregem             ZUL\n3        4         9994            2007.0    Sporting Lokeren             LOK\n4        5         9984            1750.0   KSV Cercle Brugge             CEB\n..     ...          ...               ...                 ...             ...\n294  49479        10190             898.0       FC St. Gallen             GAL\n295  49837        10191            1715.0             FC Thun             THU\n296  50201         9777             324.0         Servette FC             SER\n297  50204         7730            1862.0  FC Lausanne-Sports             LAU\n298  51606         7896               NaN              Lugano             LUG\n\n[299 rows x 5 columns]",
      "text/html": "<div>\n<style scoped>\n    .dataframe tbody tr th:only-of-type {\n        vertical-align: middle;\n    }\n\n    .dataframe tbody tr th {\n        vertical-align: top;\n    }\n\n    .dataframe thead th {\n        text-align: right;\n    }\n</style>\n<table border=\"1\" class=\"dataframe\">\n  <thead>\n    <tr style=\"text-align: right;\">\n      <th></th>\n      <th>id</th>\n      <th>team_api_id</th>\n      <th>team_fifa_api_id</th>\n      <th>team_long_name</th>\n      <th>team_short_name</th>\n    </tr>\n  </thead>\n  <tbody>\n    <tr>\n      <th>0</th>\n      <td>1</td>\n      <td>9987</td>\n      <td>673.0</td>\n      <td>KRC Genk</td>\n      <td>GEN</td>\n    </tr>\n    <tr>\n      <th>1</th>\n      <td>2</td>\n      <td>9993</td>\n      <td>675.0</td>\n      <td>Beerschot AC</td>\n      <td>BAC</td>\n    </tr>\n    <tr>\n      <th>2</th>\n      <td>3</td>\n      <td>10000</td>\n      <td>15005.0</td>\n      <td>SV Zulte-Waregem</td>\n      <td>ZUL</td>\n    </tr>\n    <tr>\n      <th>3</th>\n      <td>4</td>\n      <td>9994</td>\n      <td>2007.0</td>\n      <td>Sporting Lokeren</td>\n      <td>LOK</td>\n    </tr>\n    <tr>\n      <th>4</th>\n      <td>5</td>\n      <td>9984</td>\n      <td>1750.0</td>\n      <td>KSV Cercle Brugge</td>\n      <td>CEB</td>\n    </tr>\n    <tr>\n      <th>...</th>\n      <td>...</td>\n      <td>...</td>\n      <td>...</td>\n      <td>...</td>\n      <td>...</td>\n    </tr>\n    <tr>\n      <th>294</th>\n      <td>49479</td>\n      <td>10190</td>\n      <td>898.0</td>\n      <td>FC St. Gallen</td>\n      <td>GAL</td>\n    </tr>\n    <tr>\n      <th>295</th>\n      <td>49837</td>\n      <td>10191</td>\n      <td>1715.0</td>\n      <td>FC Thun</td>\n      <td>THU</td>\n    </tr>\n    <tr>\n      <th>296</th>\n      <td>50201</td>\n      <td>9777</td>\n      <td>324.0</td>\n      <td>Servette FC</td>\n      <td>SER</td>\n    </tr>\n    <tr>\n      <th>297</th>\n      <td>50204</td>\n      <td>7730</td>\n      <td>1862.0</td>\n      <td>FC Lausanne-Sports</td>\n      <td>LAU</td>\n    </tr>\n    <tr>\n      <th>298</th>\n      <td>51606</td>\n      <td>7896</td>\n      <td>NaN</td>\n      <td>Lugano</td>\n      <td>LUG</td>\n    </tr>\n  </tbody>\n</table>\n<p>299 rows × 5 columns</p>\n</div>"
     },
     "execution_count": 10,
     "metadata": {},
     "output_type": "execute_result"
    }
   ],
   "source": [
    "#write your query\n",
    "teams = pd.read_sql(\"select * from team \", conn)\n",
    "teams"
   ]
  },
  {
   "cell_type": "markdown",
   "metadata": {},
   "source": [
    "## Question 10: Get top 20 teams with highest home goal\n",
    "- Use GROUP BY, LIMIT statement"
   ]
  },
  {
   "cell_type": "code",
   "execution_count": 11,
   "metadata": {
    "ExecuteTime": {
     "end_time": "2023-07-24T12:46:55.652369100Z",
     "start_time": "2023-07-24T12:46:55.515177600Z"
    }
   },
   "outputs": [
    {
     "data": {
      "text/plain": "    team_api_id       team_long_name  total_home_goals\n0          8633       Real Madrid CF               505\n1          8634         FC Barcelona               495\n2          9925               Celtic               389\n3          9823     FC Bayern Munich               382\n4          8640                  PSV               370\n5          8456      Manchester City               365\n6          8593                 Ajax               360\n7          9931             FC Basel               344\n8         10260    Manchester United               338\n9          8455              Chelsea               333\n10         9847  Paris Saint-Germain               332\n11         9906      Atlético Madrid               321\n12         9772           SL Benfica               321\n13        10192       BSC Young Boys               319\n14         9885             Juventus               307\n15         9825              Arsenal               306\n16         9875               Napoli               303\n17        10267          Valencia CF               299\n18         8686                 Roma               299\n19         9789    Borussia Dortmund               298",
      "text/html": "<div>\n<style scoped>\n    .dataframe tbody tr th:only-of-type {\n        vertical-align: middle;\n    }\n\n    .dataframe tbody tr th {\n        vertical-align: top;\n    }\n\n    .dataframe thead th {\n        text-align: right;\n    }\n</style>\n<table border=\"1\" class=\"dataframe\">\n  <thead>\n    <tr style=\"text-align: right;\">\n      <th></th>\n      <th>team_api_id</th>\n      <th>team_long_name</th>\n      <th>total_home_goals</th>\n    </tr>\n  </thead>\n  <tbody>\n    <tr>\n      <th>0</th>\n      <td>8633</td>\n      <td>Real Madrid CF</td>\n      <td>505</td>\n    </tr>\n    <tr>\n      <th>1</th>\n      <td>8634</td>\n      <td>FC Barcelona</td>\n      <td>495</td>\n    </tr>\n    <tr>\n      <th>2</th>\n      <td>9925</td>\n      <td>Celtic</td>\n      <td>389</td>\n    </tr>\n    <tr>\n      <th>3</th>\n      <td>9823</td>\n      <td>FC Bayern Munich</td>\n      <td>382</td>\n    </tr>\n    <tr>\n      <th>4</th>\n      <td>8640</td>\n      <td>PSV</td>\n      <td>370</td>\n    </tr>\n    <tr>\n      <th>5</th>\n      <td>8456</td>\n      <td>Manchester City</td>\n      <td>365</td>\n    </tr>\n    <tr>\n      <th>6</th>\n      <td>8593</td>\n      <td>Ajax</td>\n      <td>360</td>\n    </tr>\n    <tr>\n      <th>7</th>\n      <td>9931</td>\n      <td>FC Basel</td>\n      <td>344</td>\n    </tr>\n    <tr>\n      <th>8</th>\n      <td>10260</td>\n      <td>Manchester United</td>\n      <td>338</td>\n    </tr>\n    <tr>\n      <th>9</th>\n      <td>8455</td>\n      <td>Chelsea</td>\n      <td>333</td>\n    </tr>\n    <tr>\n      <th>10</th>\n      <td>9847</td>\n      <td>Paris Saint-Germain</td>\n      <td>332</td>\n    </tr>\n    <tr>\n      <th>11</th>\n      <td>9906</td>\n      <td>Atlético Madrid</td>\n      <td>321</td>\n    </tr>\n    <tr>\n      <th>12</th>\n      <td>9772</td>\n      <td>SL Benfica</td>\n      <td>321</td>\n    </tr>\n    <tr>\n      <th>13</th>\n      <td>10192</td>\n      <td>BSC Young Boys</td>\n      <td>319</td>\n    </tr>\n    <tr>\n      <th>14</th>\n      <td>9885</td>\n      <td>Juventus</td>\n      <td>307</td>\n    </tr>\n    <tr>\n      <th>15</th>\n      <td>9825</td>\n      <td>Arsenal</td>\n      <td>306</td>\n    </tr>\n    <tr>\n      <th>16</th>\n      <td>9875</td>\n      <td>Napoli</td>\n      <td>303</td>\n    </tr>\n    <tr>\n      <th>17</th>\n      <td>10267</td>\n      <td>Valencia CF</td>\n      <td>299</td>\n    </tr>\n    <tr>\n      <th>18</th>\n      <td>8686</td>\n      <td>Roma</td>\n      <td>299</td>\n    </tr>\n    <tr>\n      <th>19</th>\n      <td>9789</td>\n      <td>Borussia Dortmund</td>\n      <td>298</td>\n    </tr>\n  </tbody>\n</table>\n</div>"
     },
     "execution_count": 11,
     "metadata": {},
     "output_type": "execute_result"
    }
   ],
   "source": [
    "# we need to group by `home_team_api_id` and then using limit query\n",
    "top_team_home = pd.read_sql(\"select t.team_api_id, t.team_long_name, sum(m.home_team_goal) as total_home_goals \"\n",
    "                            \"from match as m, team as t \"\n",
    "                            \"where m.home_team_api_id = t.team_api_id \"\n",
    "                            \"group by m.home_team_api_id \"\n",
    "                            \"order by total_home_goals desc \"\n",
    "                            \"limit 20 \", conn)\n",
    "top_team_home"
   ]
  },
  {
   "cell_type": "markdown",
   "metadata": {},
   "source": [
    "## Question 11: Get top 20 teams with highest away goal\n",
    "- Use GROUP BY, LIMIT statement"
   ]
  },
  {
   "cell_type": "code",
   "execution_count": 12,
   "metadata": {
    "ExecuteTime": {
     "end_time": "2023-07-24T12:46:55.760349300Z",
     "start_time": "2023-07-24T12:46:55.607107700Z"
    }
   },
   "outputs": [
    {
     "data": {
      "text/plain": "    team_api_id       team_long_name  total_away_goals\n0          8634         FC Barcelona               354\n1          8633       Real Madrid CF               338\n2          9925               Celtic               306\n3          8593                 Ajax               287\n4          8640                  PSV               282\n5          9931             FC Basel               275\n6          9823     FC Bayern Munich               271\n7          9825              Arsenal               267\n8          9789    Borussia Dortmund               253\n9          8455              Chelsea               250\n10         9772           SL Benfica               247\n11         9773             FC Porto               246\n12        10260    Manchester United               244\n13         8456      Manchester City               241\n14         8650            Liverpool               237\n15         9885             Juventus               236\n16         9847  Paris Saint-Germain               236\n17         8686                 Roma               231\n18        10243            FC Zürich               227\n19         8586    Tottenham Hotspur               226",
      "text/html": "<div>\n<style scoped>\n    .dataframe tbody tr th:only-of-type {\n        vertical-align: middle;\n    }\n\n    .dataframe tbody tr th {\n        vertical-align: top;\n    }\n\n    .dataframe thead th {\n        text-align: right;\n    }\n</style>\n<table border=\"1\" class=\"dataframe\">\n  <thead>\n    <tr style=\"text-align: right;\">\n      <th></th>\n      <th>team_api_id</th>\n      <th>team_long_name</th>\n      <th>total_away_goals</th>\n    </tr>\n  </thead>\n  <tbody>\n    <tr>\n      <th>0</th>\n      <td>8634</td>\n      <td>FC Barcelona</td>\n      <td>354</td>\n    </tr>\n    <tr>\n      <th>1</th>\n      <td>8633</td>\n      <td>Real Madrid CF</td>\n      <td>338</td>\n    </tr>\n    <tr>\n      <th>2</th>\n      <td>9925</td>\n      <td>Celtic</td>\n      <td>306</td>\n    </tr>\n    <tr>\n      <th>3</th>\n      <td>8593</td>\n      <td>Ajax</td>\n      <td>287</td>\n    </tr>\n    <tr>\n      <th>4</th>\n      <td>8640</td>\n      <td>PSV</td>\n      <td>282</td>\n    </tr>\n    <tr>\n      <th>5</th>\n      <td>9931</td>\n      <td>FC Basel</td>\n      <td>275</td>\n    </tr>\n    <tr>\n      <th>6</th>\n      <td>9823</td>\n      <td>FC Bayern Munich</td>\n      <td>271</td>\n    </tr>\n    <tr>\n      <th>7</th>\n      <td>9825</td>\n      <td>Arsenal</td>\n      <td>267</td>\n    </tr>\n    <tr>\n      <th>8</th>\n      <td>9789</td>\n      <td>Borussia Dortmund</td>\n      <td>253</td>\n    </tr>\n    <tr>\n      <th>9</th>\n      <td>8455</td>\n      <td>Chelsea</td>\n      <td>250</td>\n    </tr>\n    <tr>\n      <th>10</th>\n      <td>9772</td>\n      <td>SL Benfica</td>\n      <td>247</td>\n    </tr>\n    <tr>\n      <th>11</th>\n      <td>9773</td>\n      <td>FC Porto</td>\n      <td>246</td>\n    </tr>\n    <tr>\n      <th>12</th>\n      <td>10260</td>\n      <td>Manchester United</td>\n      <td>244</td>\n    </tr>\n    <tr>\n      <th>13</th>\n      <td>8456</td>\n      <td>Manchester City</td>\n      <td>241</td>\n    </tr>\n    <tr>\n      <th>14</th>\n      <td>8650</td>\n      <td>Liverpool</td>\n      <td>237</td>\n    </tr>\n    <tr>\n      <th>15</th>\n      <td>9885</td>\n      <td>Juventus</td>\n      <td>236</td>\n    </tr>\n    <tr>\n      <th>16</th>\n      <td>9847</td>\n      <td>Paris Saint-Germain</td>\n      <td>236</td>\n    </tr>\n    <tr>\n      <th>17</th>\n      <td>8686</td>\n      <td>Roma</td>\n      <td>231</td>\n    </tr>\n    <tr>\n      <th>18</th>\n      <td>10243</td>\n      <td>FC Zürich</td>\n      <td>227</td>\n    </tr>\n    <tr>\n      <th>19</th>\n      <td>8586</td>\n      <td>Tottenham Hotspur</td>\n      <td>226</td>\n    </tr>\n  </tbody>\n</table>\n</div>"
     },
     "execution_count": 12,
     "metadata": {},
     "output_type": "execute_result"
    }
   ],
   "source": [
    "# we need to group by `away_team_api_id` and then using limit query\n",
    "top_team_away = pd.read_sql(\"select t.team_api_id, t.team_long_name, sum(m.away_team_goal) as total_away_goals \"\n",
    "                            \"from match as m, team as t \"\n",
    "                            \"where m.away_team_api_id = t.team_api_id \"\n",
    "                            \"group by m.away_team_api_id \"\n",
    "                            \"order by total_away_goals desc \"\n",
    "                            \"limit 20 \", conn)\n",
    "top_team_away"
   ]
  },
  {
   "cell_type": "markdown",
   "metadata": {},
   "source": [
    "## Question 12: Get team long name with total of goal, order the total number by descending\n",
    "\n",
    "- Total of goal of a team is added up from both away and home games\n",
    "- Use UNION statement "
   ]
  },
  {
   "cell_type": "code",
   "execution_count": 13,
   "metadata": {
    "ExecuteTime": {
     "end_time": "2023-07-24T12:46:55.886940300Z",
     "start_time": "2023-07-24T12:46:55.739538Z"
    }
   },
   "outputs": [
    {
     "data": {
      "text/plain": "     team_api_id        team_long_name  total_goal\n0           8634          FC Barcelona         849\n1           8633        Real Madrid CF         843\n2           9925                Celtic         695\n3           9823      FC Bayern Munich         653\n4           8640                   PSV         652\n..           ...                   ...         ...\n294         8357  SpVgg Greuther Fürth          26\n295         7992              Trofense          25\n296         6631          FC Dordrecht          24\n297         7869            Córdoba CF          22\n298       108893      AC Arles-Avignon          21\n\n[299 rows x 3 columns]",
      "text/html": "<div>\n<style scoped>\n    .dataframe tbody tr th:only-of-type {\n        vertical-align: middle;\n    }\n\n    .dataframe tbody tr th {\n        vertical-align: top;\n    }\n\n    .dataframe thead th {\n        text-align: right;\n    }\n</style>\n<table border=\"1\" class=\"dataframe\">\n  <thead>\n    <tr style=\"text-align: right;\">\n      <th></th>\n      <th>team_api_id</th>\n      <th>team_long_name</th>\n      <th>total_goal</th>\n    </tr>\n  </thead>\n  <tbody>\n    <tr>\n      <th>0</th>\n      <td>8634</td>\n      <td>FC Barcelona</td>\n      <td>849</td>\n    </tr>\n    <tr>\n      <th>1</th>\n      <td>8633</td>\n      <td>Real Madrid CF</td>\n      <td>843</td>\n    </tr>\n    <tr>\n      <th>2</th>\n      <td>9925</td>\n      <td>Celtic</td>\n      <td>695</td>\n    </tr>\n    <tr>\n      <th>3</th>\n      <td>9823</td>\n      <td>FC Bayern Munich</td>\n      <td>653</td>\n    </tr>\n    <tr>\n      <th>4</th>\n      <td>8640</td>\n      <td>PSV</td>\n      <td>652</td>\n    </tr>\n    <tr>\n      <th>...</th>\n      <td>...</td>\n      <td>...</td>\n      <td>...</td>\n    </tr>\n    <tr>\n      <th>294</th>\n      <td>8357</td>\n      <td>SpVgg Greuther Fürth</td>\n      <td>26</td>\n    </tr>\n    <tr>\n      <th>295</th>\n      <td>7992</td>\n      <td>Trofense</td>\n      <td>25</td>\n    </tr>\n    <tr>\n      <th>296</th>\n      <td>6631</td>\n      <td>FC Dordrecht</td>\n      <td>24</td>\n    </tr>\n    <tr>\n      <th>297</th>\n      <td>7869</td>\n      <td>Córdoba CF</td>\n      <td>22</td>\n    </tr>\n    <tr>\n      <th>298</th>\n      <td>108893</td>\n      <td>AC Arles-Avignon</td>\n      <td>21</td>\n    </tr>\n  </tbody>\n</table>\n<p>299 rows × 3 columns</p>\n</div>"
     },
     "execution_count": 13,
     "metadata": {},
     "output_type": "execute_result"
    }
   ],
   "source": [
    "# the total goals of each team = total home goals + total away goals\n",
    "team_total_goals = pd.read_sql(\"select m.team_api_id, t.team_long_name, sum(m.total_goal) as total_goal \"\n",
    "                               \"from (select home_team_api_id as team_api_id, sum(home_team_goal) as total_goal \"\n",
    "                               \"from match group by home_team_api_id \"\n",
    "                               \"union all \"\n",
    "                               \"select away_team_api_id as team_api_id, sum(away_team_goal) as total_goal \"\n",
    "                               \"from match group by away_team_api_id) as m, team as t \"\n",
    "                               \"where m.team_api_id = t.team_api_id \"\n",
    "                               \"group by m.team_api_id \"\n",
    "                               \"order by total_goal desc \", conn)\n",
    "team_total_goals"
   ]
  },
  {
   "cell_type": "markdown",
   "metadata": {},
   "source": [
    "## Question 13: Get team long name with total of matches, order the total number by descending"
   ]
  },
  {
   "cell_type": "code",
   "execution_count": 14,
   "metadata": {
    "ExecuteTime": {
     "end_time": "2023-07-24T12:46:56.291924100Z",
     "start_time": "2023-07-24T12:46:56.153882900Z"
    }
   },
   "outputs": [
    {
     "data": {
      "text/plain": "     team_api_id     team_long_name  total_matches\n0          10267        Valencia CF            304\n1          10260  Manchester United            304\n2          10252        Aston Villa            304\n3          10194         Stoke City            304\n4           9941        Toulouse FC            304\n..           ...                ...            ...\n294        10213            Amadora             30\n295         9765       Portimonense             30\n296         7992           Trofense             30\n297         6351          KAS Eupen             30\n298         4064           Feirense             30\n\n[299 rows x 3 columns]",
      "text/html": "<div>\n<style scoped>\n    .dataframe tbody tr th:only-of-type {\n        vertical-align: middle;\n    }\n\n    .dataframe tbody tr th {\n        vertical-align: top;\n    }\n\n    .dataframe thead th {\n        text-align: right;\n    }\n</style>\n<table border=\"1\" class=\"dataframe\">\n  <thead>\n    <tr style=\"text-align: right;\">\n      <th></th>\n      <th>team_api_id</th>\n      <th>team_long_name</th>\n      <th>total_matches</th>\n    </tr>\n  </thead>\n  <tbody>\n    <tr>\n      <th>0</th>\n      <td>10267</td>\n      <td>Valencia CF</td>\n      <td>304</td>\n    </tr>\n    <tr>\n      <th>1</th>\n      <td>10260</td>\n      <td>Manchester United</td>\n      <td>304</td>\n    </tr>\n    <tr>\n      <th>2</th>\n      <td>10252</td>\n      <td>Aston Villa</td>\n      <td>304</td>\n    </tr>\n    <tr>\n      <th>3</th>\n      <td>10194</td>\n      <td>Stoke City</td>\n      <td>304</td>\n    </tr>\n    <tr>\n      <th>4</th>\n      <td>9941</td>\n      <td>Toulouse FC</td>\n      <td>304</td>\n    </tr>\n    <tr>\n      <th>...</th>\n      <td>...</td>\n      <td>...</td>\n      <td>...</td>\n    </tr>\n    <tr>\n      <th>294</th>\n      <td>10213</td>\n      <td>Amadora</td>\n      <td>30</td>\n    </tr>\n    <tr>\n      <th>295</th>\n      <td>9765</td>\n      <td>Portimonense</td>\n      <td>30</td>\n    </tr>\n    <tr>\n      <th>296</th>\n      <td>7992</td>\n      <td>Trofense</td>\n      <td>30</td>\n    </tr>\n    <tr>\n      <th>297</th>\n      <td>6351</td>\n      <td>KAS Eupen</td>\n      <td>30</td>\n    </tr>\n    <tr>\n      <th>298</th>\n      <td>4064</td>\n      <td>Feirense</td>\n      <td>30</td>\n    </tr>\n  </tbody>\n</table>\n<p>299 rows × 3 columns</p>\n</div>"
     },
     "execution_count": 14,
     "metadata": {},
     "output_type": "execute_result"
    }
   ],
   "source": [
    "# the total matches of each team = total home matches + total away matches\n",
    "team_total_matches = pd.read_sql(\"select m.team_api_id, t.team_long_name, sum(m.number_of_matches) as total_matches \"\n",
    "                               \"from (select home_team_api_id as team_api_id, count(*) as number_of_matches \"\n",
    "                               \"from match group by home_team_api_id \"\n",
    "                               \"union all \"\n",
    "                               \"select away_team_api_id as team_api_id, count(*) as number_of_matches \"\n",
    "                               \"from match group by away_team_api_id) as m, team as t \"\n",
    "                               \"where m.team_api_id = t.team_api_id \"\n",
    "                               \"group by m.team_api_id \"\n",
    "                               \"order by total_matches desc \", conn)\n",
    "team_total_matches"
   ]
  },
  {
   "cell_type": "markdown",
   "metadata": {},
   "source": [
    "## Question 14: Get numbers of win, lost and draw matches of each team\n",
    "\n",
    "- If a team has home goal > away goal , team is “win” in this match\n",
    "- If a team has home goal < away goal , team is “lost” in this match\n",
    "- If a team has home goal = away goal , team is “draw” in this match\n",
    "- Use Case When statement\n"
   ]
  },
  {
   "cell_type": "code",
   "execution_count": 15,
   "outputs": [
    {
     "data": {
      "text/plain": "     team_id         team_long_name  win  draw  lose\n0       8634           FC Barcelona  234    43    27\n1       8633         Real Madrid CF  228    36    40\n2       9925                 Celtic  218    50    36\n3       9823       FC Bayern Munich  193    44    35\n4      10260      Manchester United  192    57    55\n..       ...                    ...  ...   ...   ...\n294     9912  DSC Arminia Bielefeld    4    16    14\n295     8357   SpVgg Greuther Fürth    4     9    21\n296     6631           FC Dordrecht    4     8    22\n297     7869             Córdoba CF    3    11    24\n298   108893       AC Arles-Avignon    3    11    24\n\n[299 rows x 5 columns]",
      "text/html": "<div>\n<style scoped>\n    .dataframe tbody tr th:only-of-type {\n        vertical-align: middle;\n    }\n\n    .dataframe tbody tr th {\n        vertical-align: top;\n    }\n\n    .dataframe thead th {\n        text-align: right;\n    }\n</style>\n<table border=\"1\" class=\"dataframe\">\n  <thead>\n    <tr style=\"text-align: right;\">\n      <th></th>\n      <th>team_id</th>\n      <th>team_long_name</th>\n      <th>win</th>\n      <th>draw</th>\n      <th>lose</th>\n    </tr>\n  </thead>\n  <tbody>\n    <tr>\n      <th>0</th>\n      <td>8634</td>\n      <td>FC Barcelona</td>\n      <td>234</td>\n      <td>43</td>\n      <td>27</td>\n    </tr>\n    <tr>\n      <th>1</th>\n      <td>8633</td>\n      <td>Real Madrid CF</td>\n      <td>228</td>\n      <td>36</td>\n      <td>40</td>\n    </tr>\n    <tr>\n      <th>2</th>\n      <td>9925</td>\n      <td>Celtic</td>\n      <td>218</td>\n      <td>50</td>\n      <td>36</td>\n    </tr>\n    <tr>\n      <th>3</th>\n      <td>9823</td>\n      <td>FC Bayern Munich</td>\n      <td>193</td>\n      <td>44</td>\n      <td>35</td>\n    </tr>\n    <tr>\n      <th>4</th>\n      <td>10260</td>\n      <td>Manchester United</td>\n      <td>192</td>\n      <td>57</td>\n      <td>55</td>\n    </tr>\n    <tr>\n      <th>...</th>\n      <td>...</td>\n      <td>...</td>\n      <td>...</td>\n      <td>...</td>\n      <td>...</td>\n    </tr>\n    <tr>\n      <th>294</th>\n      <td>9912</td>\n      <td>DSC Arminia Bielefeld</td>\n      <td>4</td>\n      <td>16</td>\n      <td>14</td>\n    </tr>\n    <tr>\n      <th>295</th>\n      <td>8357</td>\n      <td>SpVgg Greuther Fürth</td>\n      <td>4</td>\n      <td>9</td>\n      <td>21</td>\n    </tr>\n    <tr>\n      <th>296</th>\n      <td>6631</td>\n      <td>FC Dordrecht</td>\n      <td>4</td>\n      <td>8</td>\n      <td>22</td>\n    </tr>\n    <tr>\n      <th>297</th>\n      <td>7869</td>\n      <td>Córdoba CF</td>\n      <td>3</td>\n      <td>11</td>\n      <td>24</td>\n    </tr>\n    <tr>\n      <th>298</th>\n      <td>108893</td>\n      <td>AC Arles-Avignon</td>\n      <td>3</td>\n      <td>11</td>\n      <td>24</td>\n    </tr>\n  </tbody>\n</table>\n<p>299 rows × 5 columns</p>\n</div>"
     },
     "execution_count": 15,
     "metadata": {},
     "output_type": "execute_result"
    }
   ],
   "source": [
    "# we need to calculate the win, draw and lose matches of each team in both home and away side.\n",
    "team_with_results = pd.read_sql(\"\"\"select m.team_id, t.team_long_name, sum(win) as win, sum(draw) as draw, sum(lose) as lose\n",
    "from (select home_team_api_id as team_id, sum(home_win) as win, sum(draw) as draw, sum(home_lose) as lose\n",
    "      from (select home_team_api_id,\n",
    "                   case when home_team_goal > away_team_goal then 1 else 0 end as home_win,\n",
    "                   case when home_team_goal = away_team_goal then 1 else 0 end as draw,\n",
    "                   case when home_team_goal < away_team_goal then 1 else 0 end as home_lose\n",
    "            from Match)\n",
    "      group by home_team_api_id\n",
    "      union all\n",
    "      select away_team_api_id as team_id, sum(away_win) as win, sum(draw) as draw, sum(away_lose) as lose\n",
    "      from (select away_team_api_id,\n",
    "                   case when home_team_goal > away_team_goal then 1 else 0 end as away_lose,\n",
    "                   case when home_team_goal = away_team_goal then 1 else 0 end as draw,\n",
    "                   case when home_team_goal < away_team_goal then 1 else 0 end as away_win\n",
    "            from Match)\n",
    "      group by away_team_api_id) as m, Team as t\n",
    "where m.team_id = t.team_api_id\n",
    "group by m.team_id\n",
    "order by win desc, draw desc, lose\"\"\", conn)\n",
    "team_with_results"
   ],
   "metadata": {
    "collapsed": false,
    "ExecuteTime": {
     "end_time": "2023-07-24T12:46:56.730825300Z",
     "start_time": "2023-07-24T12:46:56.597172500Z"
    }
   }
  },
  {
   "cell_type": "markdown",
   "metadata": {},
   "source": [
    "## Question 15: Get top 10 team with highest numbers of win matches"
   ]
  },
  {
   "cell_type": "code",
   "execution_count": 16,
   "metadata": {
    "ExecuteTime": {
     "end_time": "2023-07-24T12:46:57.153043800Z",
     "start_time": "2023-07-24T12:46:57.015941600Z"
    }
   },
   "outputs": [
    {
     "data": {
      "text/plain": "   team_id     team_long_name  win  draw  lose\n0     8634       FC Barcelona  234    43    27\n1     8633     Real Madrid CF  228    36    40\n2     9925             Celtic  218    50    36\n3     9823   FC Bayern Munich  193    44    35\n4    10260  Manchester United  192    57    55\n5     9885           Juventus  189    66    46\n6     9772         SL Benfica  185    36    27\n7     9773           FC Porto  183    42    23\n8     8593               Ajax  181    59    32\n9     9931           FC Basel  180    64    42",
      "text/html": "<div>\n<style scoped>\n    .dataframe tbody tr th:only-of-type {\n        vertical-align: middle;\n    }\n\n    .dataframe tbody tr th {\n        vertical-align: top;\n    }\n\n    .dataframe thead th {\n        text-align: right;\n    }\n</style>\n<table border=\"1\" class=\"dataframe\">\n  <thead>\n    <tr style=\"text-align: right;\">\n      <th></th>\n      <th>team_id</th>\n      <th>team_long_name</th>\n      <th>win</th>\n      <th>draw</th>\n      <th>lose</th>\n    </tr>\n  </thead>\n  <tbody>\n    <tr>\n      <th>0</th>\n      <td>8634</td>\n      <td>FC Barcelona</td>\n      <td>234</td>\n      <td>43</td>\n      <td>27</td>\n    </tr>\n    <tr>\n      <th>1</th>\n      <td>8633</td>\n      <td>Real Madrid CF</td>\n      <td>228</td>\n      <td>36</td>\n      <td>40</td>\n    </tr>\n    <tr>\n      <th>2</th>\n      <td>9925</td>\n      <td>Celtic</td>\n      <td>218</td>\n      <td>50</td>\n      <td>36</td>\n    </tr>\n    <tr>\n      <th>3</th>\n      <td>9823</td>\n      <td>FC Bayern Munich</td>\n      <td>193</td>\n      <td>44</td>\n      <td>35</td>\n    </tr>\n    <tr>\n      <th>4</th>\n      <td>10260</td>\n      <td>Manchester United</td>\n      <td>192</td>\n      <td>57</td>\n      <td>55</td>\n    </tr>\n    <tr>\n      <th>5</th>\n      <td>9885</td>\n      <td>Juventus</td>\n      <td>189</td>\n      <td>66</td>\n      <td>46</td>\n    </tr>\n    <tr>\n      <th>6</th>\n      <td>9772</td>\n      <td>SL Benfica</td>\n      <td>185</td>\n      <td>36</td>\n      <td>27</td>\n    </tr>\n    <tr>\n      <th>7</th>\n      <td>9773</td>\n      <td>FC Porto</td>\n      <td>183</td>\n      <td>42</td>\n      <td>23</td>\n    </tr>\n    <tr>\n      <th>8</th>\n      <td>8593</td>\n      <td>Ajax</td>\n      <td>181</td>\n      <td>59</td>\n      <td>32</td>\n    </tr>\n    <tr>\n      <th>9</th>\n      <td>9931</td>\n      <td>FC Basel</td>\n      <td>180</td>\n      <td>64</td>\n      <td>42</td>\n    </tr>\n  </tbody>\n</table>\n</div>"
     },
     "execution_count": 16,
     "metadata": {},
     "output_type": "execute_result"
    }
   ],
   "source": [
    "# using the above query and insert the limit statement\n",
    "top_10_team = pd.read_sql(\"\"\"select m.team_id, t.team_long_name, sum(win) as win, sum(draw) as draw, sum(lose) as lose\n",
    "from (select home_team_api_id as team_id, sum(home_win) as win, sum(draw) as draw, sum(home_lose) as lose\n",
    "      from (select home_team_api_id,\n",
    "                   case when home_team_goal > away_team_goal then 1 else 0 end as home_win,\n",
    "                   case when home_team_goal = away_team_goal then 1 else 0 end as draw,\n",
    "                   case when home_team_goal < away_team_goal then 1 else 0 end as home_lose\n",
    "            from Match)\n",
    "      group by home_team_api_id\n",
    "      union all\n",
    "      select away_team_api_id as team_id, sum(away_win) as win, sum(draw) as draw, sum(away_lose) as lose\n",
    "      from (select away_team_api_id,\n",
    "                   case when home_team_goal > away_team_goal then 1 else 0 end as away_lose,\n",
    "                   case when home_team_goal = away_team_goal then 1 else 0 end as draw,\n",
    "                   case when home_team_goal < away_team_goal then 1 else 0 end as away_win\n",
    "            from Match)\n",
    "      group by away_team_api_id) as m, Team as t\n",
    "where m.team_id = t.team_api_id\n",
    "group by m.team_id\n",
    "order by win desc, draw desc, lose\n",
    "limit 10\"\"\", conn)\n",
    "\n",
    "top_10_team"
   ]
  },
  {
   "cell_type": "markdown",
   "metadata": {},
   "source": [
    "## Question 16: Get percentage of each league to join the matches"
   ]
  },
  {
   "cell_type": "code",
   "execution_count": 17,
   "metadata": {
    "ExecuteTime": {
     "end_time": "2023-07-24T12:46:57.497967200Z",
     "start_time": "2023-07-24T12:46:57.431796Z"
    }
   },
   "outputs": [
    {
     "data": {
      "text/plain": "    league_id                      name  percentage_of_match\n0        1729    England Premier League                11.70\n1        4769            France Ligue 1                11.70\n2       21518           Spain LIGA BBVA                11.70\n3       10257             Italy Serie A                11.61\n4        7809     Germany 1. Bundesliga                 9.42\n5       13274    Netherlands Eredivisie                 9.42\n6       17642  Portugal Liga ZON Sagres                 7.90\n7       15722        Poland Ekstraklasa                 7.39\n8       19694   Scotland Premier League                 7.02\n9           1    Belgium Jupiler League                 6.65\n10      24558  Switzerland Super League                 5.47",
      "text/html": "<div>\n<style scoped>\n    .dataframe tbody tr th:only-of-type {\n        vertical-align: middle;\n    }\n\n    .dataframe tbody tr th {\n        vertical-align: top;\n    }\n\n    .dataframe thead th {\n        text-align: right;\n    }\n</style>\n<table border=\"1\" class=\"dataframe\">\n  <thead>\n    <tr style=\"text-align: right;\">\n      <th></th>\n      <th>league_id</th>\n      <th>name</th>\n      <th>percentage_of_match</th>\n    </tr>\n  </thead>\n  <tbody>\n    <tr>\n      <th>0</th>\n      <td>1729</td>\n      <td>England Premier League</td>\n      <td>11.70</td>\n    </tr>\n    <tr>\n      <th>1</th>\n      <td>4769</td>\n      <td>France Ligue 1</td>\n      <td>11.70</td>\n    </tr>\n    <tr>\n      <th>2</th>\n      <td>21518</td>\n      <td>Spain LIGA BBVA</td>\n      <td>11.70</td>\n    </tr>\n    <tr>\n      <th>3</th>\n      <td>10257</td>\n      <td>Italy Serie A</td>\n      <td>11.61</td>\n    </tr>\n    <tr>\n      <th>4</th>\n      <td>7809</td>\n      <td>Germany 1. Bundesliga</td>\n      <td>9.42</td>\n    </tr>\n    <tr>\n      <th>5</th>\n      <td>13274</td>\n      <td>Netherlands Eredivisie</td>\n      <td>9.42</td>\n    </tr>\n    <tr>\n      <th>6</th>\n      <td>17642</td>\n      <td>Portugal Liga ZON Sagres</td>\n      <td>7.90</td>\n    </tr>\n    <tr>\n      <th>7</th>\n      <td>15722</td>\n      <td>Poland Ekstraklasa</td>\n      <td>7.39</td>\n    </tr>\n    <tr>\n      <th>8</th>\n      <td>19694</td>\n      <td>Scotland Premier League</td>\n      <td>7.02</td>\n    </tr>\n    <tr>\n      <th>9</th>\n      <td>1</td>\n      <td>Belgium Jupiler League</td>\n      <td>6.65</td>\n    </tr>\n    <tr>\n      <th>10</th>\n      <td>24558</td>\n      <td>Switzerland Super League</td>\n      <td>5.47</td>\n    </tr>\n  </tbody>\n</table>\n</div>"
     },
     "execution_count": 17,
     "metadata": {},
     "output_type": "execute_result"
    }
   ],
   "source": [
    "# using group by on `league_id` and then using cross join and inner join to merge the missing info\n",
    "percentage_of_each_league = pd.read_sql(\"\"\"\n",
    "select m.league_id, l.name, round(m.match_of_each_league * 100.0/t.total_match, 2) as percentage_of_match\n",
    "from (select league_id, count(*) as match_of_each_league\n",
    "      from Match\n",
    "      group by league_id) as m\n",
    "    cross join (select count(*) as total_match from Match) as t\n",
    "    inner join League as l on m.league_id = l.id\n",
    "order by percentage_of_match desc\"\"\", conn)\n",
    "\n",
    "percentage_of_each_league"
   ]
  },
  {
   "cell_type": "markdown",
   "metadata": {},
   "source": [
    "## Question 17: Get percentage of score in each league"
   ]
  },
  {
   "cell_type": "code",
   "execution_count": 18,
   "metadata": {
    "ExecuteTime": {
     "end_time": "2023-07-24T12:46:58.061513600Z",
     "start_time": "2023-07-24T12:46:57.940487900Z"
    }
   },
   "outputs": [
    {
     "data": {
      "text/plain": "    league_id                      name  percentage_of_goal\n0       21518           Spain LIGA BBVA               11.97\n1        1729    England Premier League               11.72\n2       10257             Italy Serie A               11.23\n3       13274    Netherlands Eredivisie               10.73\n4        4769            France Ligue 1               10.57\n5        7809     Germany 1. Bundesliga               10.11\n6       17642  Portugal Liga ZON Sagres                7.40\n7           1    Belgium Jupiler League                6.89\n8       19694   Scotland Premier League                6.83\n9       15722        Poland Ekstraklasa                6.62\n10      24558  Switzerland Super League                5.93",
      "text/html": "<div>\n<style scoped>\n    .dataframe tbody tr th:only-of-type {\n        vertical-align: middle;\n    }\n\n    .dataframe tbody tr th {\n        vertical-align: top;\n    }\n\n    .dataframe thead th {\n        text-align: right;\n    }\n</style>\n<table border=\"1\" class=\"dataframe\">\n  <thead>\n    <tr style=\"text-align: right;\">\n      <th></th>\n      <th>league_id</th>\n      <th>name</th>\n      <th>percentage_of_goal</th>\n    </tr>\n  </thead>\n  <tbody>\n    <tr>\n      <th>0</th>\n      <td>21518</td>\n      <td>Spain LIGA BBVA</td>\n      <td>11.97</td>\n    </tr>\n    <tr>\n      <th>1</th>\n      <td>1729</td>\n      <td>England Premier League</td>\n      <td>11.72</td>\n    </tr>\n    <tr>\n      <th>2</th>\n      <td>10257</td>\n      <td>Italy Serie A</td>\n      <td>11.23</td>\n    </tr>\n    <tr>\n      <th>3</th>\n      <td>13274</td>\n      <td>Netherlands Eredivisie</td>\n      <td>10.73</td>\n    </tr>\n    <tr>\n      <th>4</th>\n      <td>4769</td>\n      <td>France Ligue 1</td>\n      <td>10.57</td>\n    </tr>\n    <tr>\n      <th>5</th>\n      <td>7809</td>\n      <td>Germany 1. Bundesliga</td>\n      <td>10.11</td>\n    </tr>\n    <tr>\n      <th>6</th>\n      <td>17642</td>\n      <td>Portugal Liga ZON Sagres</td>\n      <td>7.40</td>\n    </tr>\n    <tr>\n      <th>7</th>\n      <td>1</td>\n      <td>Belgium Jupiler League</td>\n      <td>6.89</td>\n    </tr>\n    <tr>\n      <th>8</th>\n      <td>19694</td>\n      <td>Scotland Premier League</td>\n      <td>6.83</td>\n    </tr>\n    <tr>\n      <th>9</th>\n      <td>15722</td>\n      <td>Poland Ekstraklasa</td>\n      <td>6.62</td>\n    </tr>\n    <tr>\n      <th>10</th>\n      <td>24558</td>\n      <td>Switzerland Super League</td>\n      <td>5.93</td>\n    </tr>\n  </tbody>\n</table>\n</div>"
     },
     "execution_count": 18,
     "metadata": {},
     "output_type": "execute_result"
    }
   ],
   "source": [
    "# do the same process as above, but this time we need to sum both home goals and away goals\n",
    "percentage_score_each_league = pd.read_sql(\"\"\"\n",
    "select m.league_id, l.name, round(m.total_of_each_league * 100.0/t.total, 2) as percentage_of_goal\n",
    "from (select league_id, sum(home_team_goal + away_team_goal) as total_of_each_league\n",
    "      from Match\n",
    "      group by league_id) as m\n",
    "    cross join (select sum(home_team_goal + away_team_goal) as total from Match) as t\n",
    "    inner join League as l on m.league_id = l.id\n",
    "order by percentage_of_goal desc\"\"\", conn)\n",
    "\n",
    "percentage_score_each_league"
   ]
  },
  {
   "cell_type": "markdown",
   "metadata": {},
   "source": [
    "## Question 18: Get total numbers of goals for each league in each season"
   ]
  },
  {
   "cell_type": "code",
   "execution_count": 19,
   "metadata": {
    "ExecuteTime": {
     "end_time": "2023-07-24T12:46:58.528622200Z",
     "start_time": "2023-07-24T12:46:58.446265400Z"
    }
   },
   "outputs": [
    {
     "data": {
      "text/plain": "    league_id                      name     season  goals_of_season\n0           1    Belgium Jupiler League  2008/2009              855\n1           1    Belgium Jupiler League  2009/2010              565\n2           1    Belgium Jupiler League  2010/2011              635\n3           1    Belgium Jupiler League  2011/2012              691\n4           1    Belgium Jupiler League  2012/2013              703\n..        ...                       ...        ...              ...\n83      24558  Switzerland Super League  2011/2012              425\n84      24558  Switzerland Super League  2012/2013              462\n85      24558  Switzerland Super League  2013/2014              520\n86      24558  Switzerland Super League  2014/2015              517\n87      24558  Switzerland Super League  2015/2016              566\n\n[88 rows x 4 columns]",
      "text/html": "<div>\n<style scoped>\n    .dataframe tbody tr th:only-of-type {\n        vertical-align: middle;\n    }\n\n    .dataframe tbody tr th {\n        vertical-align: top;\n    }\n\n    .dataframe thead th {\n        text-align: right;\n    }\n</style>\n<table border=\"1\" class=\"dataframe\">\n  <thead>\n    <tr style=\"text-align: right;\">\n      <th></th>\n      <th>league_id</th>\n      <th>name</th>\n      <th>season</th>\n      <th>goals_of_season</th>\n    </tr>\n  </thead>\n  <tbody>\n    <tr>\n      <th>0</th>\n      <td>1</td>\n      <td>Belgium Jupiler League</td>\n      <td>2008/2009</td>\n      <td>855</td>\n    </tr>\n    <tr>\n      <th>1</th>\n      <td>1</td>\n      <td>Belgium Jupiler League</td>\n      <td>2009/2010</td>\n      <td>565</td>\n    </tr>\n    <tr>\n      <th>2</th>\n      <td>1</td>\n      <td>Belgium Jupiler League</td>\n      <td>2010/2011</td>\n      <td>635</td>\n    </tr>\n    <tr>\n      <th>3</th>\n      <td>1</td>\n      <td>Belgium Jupiler League</td>\n      <td>2011/2012</td>\n      <td>691</td>\n    </tr>\n    <tr>\n      <th>4</th>\n      <td>1</td>\n      <td>Belgium Jupiler League</td>\n      <td>2012/2013</td>\n      <td>703</td>\n    </tr>\n    <tr>\n      <th>...</th>\n      <td>...</td>\n      <td>...</td>\n      <td>...</td>\n      <td>...</td>\n    </tr>\n    <tr>\n      <th>83</th>\n      <td>24558</td>\n      <td>Switzerland Super League</td>\n      <td>2011/2012</td>\n      <td>425</td>\n    </tr>\n    <tr>\n      <th>84</th>\n      <td>24558</td>\n      <td>Switzerland Super League</td>\n      <td>2012/2013</td>\n      <td>462</td>\n    </tr>\n    <tr>\n      <th>85</th>\n      <td>24558</td>\n      <td>Switzerland Super League</td>\n      <td>2013/2014</td>\n      <td>520</td>\n    </tr>\n    <tr>\n      <th>86</th>\n      <td>24558</td>\n      <td>Switzerland Super League</td>\n      <td>2014/2015</td>\n      <td>517</td>\n    </tr>\n    <tr>\n      <th>87</th>\n      <td>24558</td>\n      <td>Switzerland Super League</td>\n      <td>2015/2016</td>\n      <td>566</td>\n    </tr>\n  </tbody>\n</table>\n<p>88 rows × 4 columns</p>\n</div>"
     },
     "execution_count": 19,
     "metadata": {},
     "output_type": "execute_result"
    }
   ],
   "source": [
    "# using group by statement on two fields `league_id` and `season`\n",
    "goal_by_league_and_season = pd.read_sql(\"\"\"\n",
    "select m.league_id, l.name, m.season, sum(m.home_team_goal + m.away_team_goal) as goals_of_season\n",
    "from Match as m, League as l\n",
    "where m.league_id = l.id\n",
    "group by m.league_id, m.season\n",
    "\"\"\", conn)\n",
    "\n",
    "goal_by_league_and_season"
   ]
  },
  {
   "cell_type": "markdown",
   "metadata": {},
   "source": [
    "## Question 19: Get player attributes\n",
    "\n",
    "- Convert weight to kilogram\n",
    "- Convert height to meter\n",
    "- Calculuate bmi = ( (weight* 0.453592) / (height/100)^2)\n",
    "- Get Age of player"
   ]
  },
  {
   "cell_type": "code",
   "execution_count": 20,
   "metadata": {
    "ExecuteTime": {
     "end_time": "2023-07-24T12:46:59.123994600Z",
     "start_time": "2023-07-24T12:46:59.065385800Z"
    }
   },
   "outputs": [
    {
     "data": {
      "text/plain": "       player_api_id          player_name  weight_in_kg  height_in_m    BMI  \\\n0             505942   Aaron Appindangoye         84.82         1.83  25.36   \n1             155782      Aaron Cresswell         66.22         1.70  22.87   \n2             162549          Aaron Doran         73.94         1.70  25.53   \n3              30572        Aaron Galindo         89.81         1.83  26.85   \n4              23780         Aaron Hughes         69.85         1.83  20.89   \n...              ...                  ...           ...          ...    ...   \n11055          26357       Zoumana Camara         76.20         1.83  22.78   \n11056         111182         Zsolt Laczko         79.83         1.83  23.87   \n11057          36491            Zsolt Low         69.85         1.80  21.48   \n11058          35506  Zurab Khizanishvili         78.02         1.85  22.69   \n11059          39902   Zvjezdan Misimovic         79.83         1.80  24.55   \n\n       age  \n0       31  \n1       33  \n2       32  \n3       41  \n4       43  \n...    ...  \n11055   44  \n11056   36  \n11057   44  \n11058   41  \n11059   41  \n\n[11060 rows x 6 columns]",
      "text/html": "<div>\n<style scoped>\n    .dataframe tbody tr th:only-of-type {\n        vertical-align: middle;\n    }\n\n    .dataframe tbody tr th {\n        vertical-align: top;\n    }\n\n    .dataframe thead th {\n        text-align: right;\n    }\n</style>\n<table border=\"1\" class=\"dataframe\">\n  <thead>\n    <tr style=\"text-align: right;\">\n      <th></th>\n      <th>player_api_id</th>\n      <th>player_name</th>\n      <th>weight_in_kg</th>\n      <th>height_in_m</th>\n      <th>BMI</th>\n      <th>age</th>\n    </tr>\n  </thead>\n  <tbody>\n    <tr>\n      <th>0</th>\n      <td>505942</td>\n      <td>Aaron Appindangoye</td>\n      <td>84.82</td>\n      <td>1.83</td>\n      <td>25.36</td>\n      <td>31</td>\n    </tr>\n    <tr>\n      <th>1</th>\n      <td>155782</td>\n      <td>Aaron Cresswell</td>\n      <td>66.22</td>\n      <td>1.70</td>\n      <td>22.87</td>\n      <td>33</td>\n    </tr>\n    <tr>\n      <th>2</th>\n      <td>162549</td>\n      <td>Aaron Doran</td>\n      <td>73.94</td>\n      <td>1.70</td>\n      <td>25.53</td>\n      <td>32</td>\n    </tr>\n    <tr>\n      <th>3</th>\n      <td>30572</td>\n      <td>Aaron Galindo</td>\n      <td>89.81</td>\n      <td>1.83</td>\n      <td>26.85</td>\n      <td>41</td>\n    </tr>\n    <tr>\n      <th>4</th>\n      <td>23780</td>\n      <td>Aaron Hughes</td>\n      <td>69.85</td>\n      <td>1.83</td>\n      <td>20.89</td>\n      <td>43</td>\n    </tr>\n    <tr>\n      <th>...</th>\n      <td>...</td>\n      <td>...</td>\n      <td>...</td>\n      <td>...</td>\n      <td>...</td>\n      <td>...</td>\n    </tr>\n    <tr>\n      <th>11055</th>\n      <td>26357</td>\n      <td>Zoumana Camara</td>\n      <td>76.20</td>\n      <td>1.83</td>\n      <td>22.78</td>\n      <td>44</td>\n    </tr>\n    <tr>\n      <th>11056</th>\n      <td>111182</td>\n      <td>Zsolt Laczko</td>\n      <td>79.83</td>\n      <td>1.83</td>\n      <td>23.87</td>\n      <td>36</td>\n    </tr>\n    <tr>\n      <th>11057</th>\n      <td>36491</td>\n      <td>Zsolt Low</td>\n      <td>69.85</td>\n      <td>1.80</td>\n      <td>21.48</td>\n      <td>44</td>\n    </tr>\n    <tr>\n      <th>11058</th>\n      <td>35506</td>\n      <td>Zurab Khizanishvili</td>\n      <td>78.02</td>\n      <td>1.85</td>\n      <td>22.69</td>\n      <td>41</td>\n    </tr>\n    <tr>\n      <th>11059</th>\n      <td>39902</td>\n      <td>Zvjezdan Misimovic</td>\n      <td>79.83</td>\n      <td>1.80</td>\n      <td>24.55</td>\n      <td>41</td>\n    </tr>\n  </tbody>\n</table>\n<p>11060 rows × 6 columns</p>\n</div>"
     },
     "execution_count": 20,
     "metadata": {},
     "output_type": "execute_result"
    }
   ],
   "source": [
    "# using strftime() to calculate the age of player\n",
    "player_attrs = pd.read_sql(\"\"\"\n",
    "select player_api_id, player_name,\n",
    "       round(weight*0.453592, 2) as weight_in_kg,\n",
    "       round(height/100, 2) as height_in_m,\n",
    "       round((weight*0.453592) / ((height/100)*(height/100)), 2) as BMI,\n",
    "       strftime('%Y', 'now') - strftime('%Y', birthday) - (strftime('%m-%d', 'now') < strftime('%m-%d', birthday)) AS age\n",
    "from Player\n",
    "\"\"\", conn)\n",
    "\n",
    "player_attrs"
   ]
  },
  {
   "cell_type": "markdown",
   "metadata": {},
   "source": [
    "## Question 20: Get oldest player"
   ]
  },
  {
   "cell_type": "code",
   "execution_count": 21,
   "metadata": {
    "ExecuteTime": {
     "end_time": "2023-07-24T12:46:59.788647100Z",
     "start_time": "2023-07-24T12:46:59.737839400Z"
    }
   },
   "outputs": [
    {
     "data": {
      "text/plain": "   player_api_id      player_name  age\n0          39425  Alberto Fontana   56",
      "text/html": "<div>\n<style scoped>\n    .dataframe tbody tr th:only-of-type {\n        vertical-align: middle;\n    }\n\n    .dataframe tbody tr th {\n        vertical-align: top;\n    }\n\n    .dataframe thead th {\n        text-align: right;\n    }\n</style>\n<table border=\"1\" class=\"dataframe\">\n  <thead>\n    <tr style=\"text-align: right;\">\n      <th></th>\n      <th>player_api_id</th>\n      <th>player_name</th>\n      <th>age</th>\n    </tr>\n  </thead>\n  <tbody>\n    <tr>\n      <th>0</th>\n      <td>39425</td>\n      <td>Alberto Fontana</td>\n      <td>56</td>\n    </tr>\n  </tbody>\n</table>\n</div>"
     },
     "execution_count": 21,
     "metadata": {},
     "output_type": "execute_result"
    }
   ],
   "source": [
    "# based on the result of the above query, we order the age and then get the first one\n",
    "oldest_age = pd.read_sql(\"\"\"\n",
    "select player_api_id, player_name, max(age) as age\n",
    "from (select player_api_id,\n",
    "             player_name,\n",
    "             strftime('%Y', 'now') - strftime('%Y', birthday) -\n",
    "             (strftime('%m-%d', 'now') < strftime('%m-%d', birthday)) AS age\n",
    "      from Player)\n",
    "\"\"\", conn)\n",
    "\n",
    "oldest_age"
   ]
  },
  {
   "cell_type": "markdown",
   "metadata": {},
   "source": [
    "## Question 21: Get players who played highest number of matches"
   ]
  },
  {
   "cell_type": "code",
   "execution_count": 22,
   "metadata": {
    "ExecuteTime": {
     "end_time": "2023-07-24T12:47:01.428029700Z",
     "start_time": "2023-07-24T12:47:00.410237Z"
    }
   },
   "outputs": [
    {
     "data": {
      "text/plain": "player_api_id              31293\nplayer_name       Steve Mandanda\nmatches_played               300\nName: 0, dtype: object"
     },
     "execution_count": 22,
     "metadata": {},
     "output_type": "execute_result"
    }
   ],
   "source": [
    "# using join statement to join each player id with the match that they play and then do the counting\n",
    "players_with_highest_matches = pd.read_sql(\"\"\"\n",
    "SELECT p.player_api_id, p.player_name, COUNT(*) AS matches_played\n",
    "FROM Player p\n",
    "JOIN Match m ON p.player_api_id IN (\n",
    "        m.home_player_1, m.home_player_2, m.home_player_3, m.home_player_4, m.home_player_5, m.home_player_6,\n",
    "        m.home_player_7, m.home_player_8, m.home_player_9, m.home_player_10, m.home_player_11,\n",
    "        m.away_player_1, m.away_player_2, m.away_player_3, m.away_player_4, m.away_player_5, m.away_player_6,\n",
    "        m.away_player_7, m.away_player_8, m.away_player_9, m.away_player_10, m.away_player_11\n",
    "    )\n",
    "GROUP BY p.player_api_id, p.player_name\n",
    "ORDER BY matches_played DESC\n",
    "\"\"\", conn)\n",
    "\n",
    "players_with_highest_matches.iloc[0]"
   ]
  },
  {
   "cell_type": "markdown",
   "metadata": {},
   "source": [
    "## Question 22: Get players who had overall_rating larger than 80"
   ]
  },
  {
   "cell_type": "code",
   "execution_count": 23,
   "metadata": {
    "ExecuteTime": {
     "end_time": "2023-07-24T12:47:01.571040200Z",
     "start_time": "2023-07-24T12:47:01.429143Z"
    }
   },
   "outputs": [
    {
     "data": {
      "text/plain": "     player_api_id         player_name  rating\n0            21446            Hernanes      81\n1            22984        Ivan Cordoba      81\n2            24011        Mikel Arteta      81\n3            24154          Ryan Giggs      81\n4            24846     Leighton Baines      81\n..             ...                 ...     ...\n141          30924       Franck Ribery      88\n142          30955      Andres Iniesta      88\n143          35724  Zlatan Ibrahimovic      88\n144          30893   Cristiano Ronaldo      91\n145          30981        Lionel Messi      92\n\n[146 rows x 3 columns]",
      "text/html": "<div>\n<style scoped>\n    .dataframe tbody tr th:only-of-type {\n        vertical-align: middle;\n    }\n\n    .dataframe tbody tr th {\n        vertical-align: top;\n    }\n\n    .dataframe thead th {\n        text-align: right;\n    }\n</style>\n<table border=\"1\" class=\"dataframe\">\n  <thead>\n    <tr style=\"text-align: right;\">\n      <th></th>\n      <th>player_api_id</th>\n      <th>player_name</th>\n      <th>rating</th>\n    </tr>\n  </thead>\n  <tbody>\n    <tr>\n      <th>0</th>\n      <td>21446</td>\n      <td>Hernanes</td>\n      <td>81</td>\n    </tr>\n    <tr>\n      <th>1</th>\n      <td>22984</td>\n      <td>Ivan Cordoba</td>\n      <td>81</td>\n    </tr>\n    <tr>\n      <th>2</th>\n      <td>24011</td>\n      <td>Mikel Arteta</td>\n      <td>81</td>\n    </tr>\n    <tr>\n      <th>3</th>\n      <td>24154</td>\n      <td>Ryan Giggs</td>\n      <td>81</td>\n    </tr>\n    <tr>\n      <th>4</th>\n      <td>24846</td>\n      <td>Leighton Baines</td>\n      <td>81</td>\n    </tr>\n    <tr>\n      <th>...</th>\n      <td>...</td>\n      <td>...</td>\n      <td>...</td>\n    </tr>\n    <tr>\n      <th>141</th>\n      <td>30924</td>\n      <td>Franck Ribery</td>\n      <td>88</td>\n    </tr>\n    <tr>\n      <th>142</th>\n      <td>30955</td>\n      <td>Andres Iniesta</td>\n      <td>88</td>\n    </tr>\n    <tr>\n      <th>143</th>\n      <td>35724</td>\n      <td>Zlatan Ibrahimovic</td>\n      <td>88</td>\n    </tr>\n    <tr>\n      <th>144</th>\n      <td>30893</td>\n      <td>Cristiano Ronaldo</td>\n      <td>91</td>\n    </tr>\n    <tr>\n      <th>145</th>\n      <td>30981</td>\n      <td>Lionel Messi</td>\n      <td>92</td>\n    </tr>\n  </tbody>\n</table>\n<p>146 rows × 3 columns</p>\n</div>"
     },
     "execution_count": 23,
     "metadata": {},
     "output_type": "execute_result"
    }
   ],
   "source": [
    "# count the player's rating by divide the `overall_rating` by count(*). Then, do the filtering and sorting.\n",
    "players_with_rating = pd.read_sql(\"\"\"\n",
    "select r.player_api_id, p.player_name, r.rating\n",
    "from\n",
    "(select player_api_id, sum(overall_rating)/ count(*) as rating\n",
    "from Player_Attributes\n",
    "group by player_api_id\n",
    "order by rating) as r, Player as p\n",
    "where r.player_api_id = p.player_api_id and rating > 80\n",
    "\"\"\", conn)\n",
    "players_with_rating"
   ]
  },
  {
   "cell_type": "code",
   "execution_count": null,
   "outputs": [],
   "source": [],
   "metadata": {
    "collapsed": false
   }
  }
 ],
 "metadata": {
  "kernelspec": {
   "display_name": "Python 3",
   "language": "python",
   "name": "python3"
  },
  "language_info": {
   "codemirror_mode": {
    "name": "ipython",
    "version": 3
   },
   "file_extension": ".py",
   "mimetype": "text/x-python",
   "name": "python",
   "nbconvert_exporter": "python",
   "pygments_lexer": "ipython3",
   "version": "3.6.3"
  }
 },
 "nbformat": 4,
 "nbformat_minor": 2
}
