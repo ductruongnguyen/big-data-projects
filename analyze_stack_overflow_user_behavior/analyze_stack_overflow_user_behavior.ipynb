{
 "cells": [
  {
   "cell_type": "markdown",
   "source": [
    "## Project I: Analyze the behaviors of the StackOverFlow Users"
   ],
   "metadata": {
    "collapsed": false
   },
   "id": "23f225283327d01"
  },
  {
   "cell_type": "markdown",
   "id": "19eb45ab",
   "metadata": {
    "pycharm": {
     "name": "#%% md\n"
    }
   },
   "source": [
    "## REQUIRED: Loading the data from MongoDB source and Normalization beforeAll"
   ]
  },
  {
   "cell_type": "code",
   "execution_count": 1,
   "outputs": [
    {
     "name": "stdout",
     "output_type": "stream",
     "text": [
      "Collecting findspark\n",
      "  Downloading findspark-2.0.1-py2.py3-none-any.whl (4.4 kB)\n",
      "Installing collected packages: findspark\n",
      "Successfully installed findspark-2.0.1\n"
     ]
    }
   ],
   "source": [
    "!pip install findspark"
   ],
   "metadata": {
    "collapsed": false,
    "ExecuteTime": {
     "end_time": "2023-09-22T03:04:24.253308800Z",
     "start_time": "2023-09-22T03:04:16.875077100Z"
    }
   },
   "id": "1809bbbb23ea307a"
  },
  {
   "cell_type": "code",
   "execution_count": 2,
   "id": "d670ba72",
   "metadata": {
    "pycharm": {
     "name": "#%%\n"
    },
    "ExecuteTime": {
     "end_time": "2023-09-22T03:05:05.334807900Z",
     "start_time": "2023-09-22T03:05:05.152439400Z"
    }
   },
   "outputs": [],
   "source": [
    "import findspark\n",
    "findspark.init()"
   ]
  },
  {
   "cell_type": "code",
   "execution_count": 3,
   "id": "3d96fe6c",
   "metadata": {
    "pycharm": {
     "name": "#%%\n"
    },
    "scrolled": true,
    "ExecuteTime": {
     "end_time": "2023-09-22T03:05:30.176822800Z",
     "start_time": "2023-09-22T03:05:12.786298900Z"
    }
   },
   "outputs": [
    {
     "name": "stdout",
     "output_type": "stream",
     "text": [
      "root\n",
      " |-- Id: integer (nullable = true)\n",
      " |-- OwnerUserId: integer (nullable = true)\n",
      " |-- CreationDate: date (nullable = true)\n",
      " |-- ParentId: integer (nullable = true)\n",
      " |-- Score: integer (nullable = true)\n",
      " |-- Body: string (nullable = true)\n",
      "+----+-----------+------------+--------+-----+--------------------+\n",
      "|  Id|OwnerUserId|CreationDate|ParentId|Score|                Body|\n",
      "+----+-----------+------------+--------+-----+--------------------+\n",
      "|  92|         61|  2008-08-01|      90|   13|<p><a href=\"http:...|\n",
      "| 124|         26|  2008-08-01|      80|   12|<p>I wound up usi...|\n",
      "| 199|         50|  2008-08-01|     180|    1|<p>I've read some...|\n",
      "| 269|         91|  2008-08-01|     260|    4|<p>Yes, I thought...|\n",
      "| 307|         49|  2008-08-02|     260|   28|<p><a href=\"http:...|\n",
      "| 332|         59|  2008-08-02|     330|   19|<p>I would be a b...|\n",
      "| 344|        100|  2008-08-02|     260|    6|<p>You might be a...|\n",
      "| 359|        119|  2008-08-02|     260|    5|<P>You could use ...|\n",
      "| 473|         49|  2008-08-02|     470|    8|<p>No, what you'r...|\n",
      "| 529|         86|  2008-08-02|     180|    3|<p>Isn't it also ...|\n",
      "| 539|        157|  2008-08-02|     180|   21|<p>My first thoug...|\n",
      "| 585|        149|  2008-08-02|     580|   13|<p>For my project...|\n",
      "| 586|         34|  2008-08-02|     580|   17|<p>I've taken to ...|\n",
      "| 590|        116|  2008-08-03|     580|    2|<p>If you have a ...|\n",
      "| 591|        111|  2008-08-03|     580|    3|<p>I work the sam...|\n",
      "| 597|         76|  2008-08-03|     580|    1|<p>I agree that s...|\n",
      "| 655|         91|  2008-08-03|     650|   69|<p>With the \"Buil...|\n",
      "| 787|        175|  2008-08-03|     650|    4|<p>What source co...|\n",
      "| 818|        233|  2008-08-03|     810|    0|<p>I'm partway to...|\n",
      "| 820|         91|  2008-08-03|     810|    3|<p>First: Yes, th...|\n",
      "| 829|        234|  2008-08-03|     810|    4|<p>I'm guessing t...|\n",
      "| 870|        233|  2008-08-03|     810|    0|<p>Despite what t...|\n",
      "| 940|        243|  2008-08-04|     930|   15|<p>Very roughly a...|\n",
      "| 951|         49|  2008-08-04|     930|   26|<p>@Goyuix -- tha...|\n",
      "|1022|         93|  2008-08-04|     930|    9|<p>That's definit...|\n",
      "|1043|         55|  2008-08-04|    1040|    2|<p>You can use th...|\n",
      "|1044|        227|  2008-08-04|    1040|   32|<p>Killing other ...|\n",
      "|1049|        234|  2008-08-04|    1040|    5|<p>If you want to...|\n",
      "|1050|        234|  2008-08-04|    1040|    1|<p>Oh, one big ha...|\n",
      "|1051|       null|  2008-08-04|    1040|   11|<P>The typical me...|\n",
      "|1074|          1|  2008-08-04|    1010|    7|<p>Rex, I suspect...|\n",
      "|1082|        116|  2008-08-04|    1070|    2|<p>Yes, you are r...|\n",
      "|1093|         51|  2008-08-04|    1010|    2|<p>See this <a hr...|\n",
      "|1164|         91|  2008-08-04|    1160|    2|<p>I am currently...|\n",
      "|1168|        120|  2008-08-04|    1160|    3|<p>I found <a hre...|\n",
      "|1169|        275|  2008-08-04|    1160|   13|<p>You have basic...|\n",
      "|1172|        266|  2008-08-04|    1160|    3|<p>If you prefer ...|\n",
      "|1185|         60|  2008-08-04|    1180|    1|<p>The trick to t...|\n",
      "|1187|        275|  2008-08-04|    1180|    7|<p><strong>Don't ...|\n",
      "|1216|        120|  2008-08-04|    1160|    2|<blockquote>\\r\\n ...|\n",
      "|1232|         48|  2008-08-04|    1180|   11|<p>The way we do ...|\n",
      "|1235|        173|  2008-08-04|    1160|    3|<p>I have written...|\n",
      "|1320|        312|  2008-08-04|    1300|    4|<p>In my opinion ...|\n",
      "|1347|         17|  2008-08-04|    1300|    0|<p>Honestly it de...|\n",
      "|1364|         35|  2008-08-04|    1300|    2|<p>If you've alre...|\n",
      "|1394|         91|  2008-08-04|    1390|   16|<p>Not sure how c...|\n",
      "|1446|        307|  2008-08-04|     580|    2|<p>Using SMO/DMO,...|\n",
      "|1464|         26|  2008-08-04|     580|    5|<p>Like Rob Allen...|\n",
      "|1550|        313|  2008-08-04|     650|    0|<p>Some time ago ...|\n",
      "|1617|        173|  2008-08-04|    1600|    6|<p>It is possible...|\n",
      "|1621|        224|  2008-08-04|    1610|   51|<P>You can not do...|\n",
      "|1624|        192|  2008-08-04|    1610|    1|<p>When Managemen...|\n",
      "|1646|        225|  2008-08-04|    1600|    4|<p>Here's a dynam...|\n",
      "|1673|        308|  2008-08-04|    1300|   13|<p>If you are qui...|\n",
      "|1765|        307|  2008-08-05|    1760|    1|<p>I like <a href...|\n",
      "|1773|        164|  2008-08-05|    1070|   13|<p>The exact defi...|\n",
      "|1776|        313|  2008-08-05|    1600|    0|<p>The <strong>Pu...|\n",
      "|1793|        307|  2008-08-05|    1600|    2|<p>Backup and Res...|\n",
      "|1794|        117|  2008-08-05|    1790|    2|<p>Sounds like yo...|\n",
      "|1806|        292|  2008-08-05|    1790|    0|<p>Its probably n...|\n",
      "|1820|        358|  2008-08-05|    1760|    2|<P>I like <A href...|\n",
      "|1821|        308|  2008-08-05|    1760|   47|<p>There are so m...|\n",
      "|1971|        269|  2008-08-05|    1970|    3|<p>When I wrote m...|\n",
      "|2017|         48|  2008-08-05|    1790|    4|<p>This is more o...|\n",
      "|2019|        342|  2008-08-05|     330|    3|<p>One way of dec...|\n",
      "|2023|        370|  2008-08-05|     330|    2|<p>sounds like a ...|\n",
      "|2058|        371|  2008-08-05|    1010|    1|<p>I enabled comp...|\n",
      "|2254|         34|  2008-08-05|    2250|    5|<p>in 1.x there u...|\n",
      "|2258|        377|  2008-08-05|    2250|   69|<p>It really depe...|\n",
      "|2264|         26|  2008-08-05|    2250|    3|<p>One feature of...|\n",
      "|2312|        307|  2008-08-05|    2300|    3|<p>Whatever your ...|\n",
      "|2369|         95|  2008-08-05|     930|    6|<p>This is an alt...|\n",
      "|2382|        383|  2008-08-05|    2120|  118|<p>I have found t...|\n",
      "|2531|        157|  2008-08-05|    2530| 1637|<p>Firefox 30 ign...|\n",
      "|2535|        269|  2008-08-05|    2530|   11|<pre><code>&lt;fo...|\n",
      "|2536|    1384652|  2008-08-05|    2530|    6|<p>Use a non-stan...|\n",
      "|2537|        225|  2008-08-05|    2530|   77|<pre><code>&lt;fo...|\n",
      "|2542|        106|  2008-08-05|    2530|   12|<p>Just set <code...|\n",
      "|2558|        414|  2008-08-05|    2540|   11|<P>As always, Goo...|\n",
      "|2560|         72|  2008-08-05|    2550|   19|<p>Flash is certa...|\n",
      "|2562|         91|  2008-08-05|    2550|    5|<p>Flash is usual...|\n",
      "|2566|         46|  2008-08-05|    2550|    0|<p>I have worked ...|\n",
      "|2697|        199|  2008-08-05|    2540|   33|<p>The <a href=\"h...|\n",
      "|2699|         36|  2008-08-05|    2630|    0|<p>While semi-rel...|\n",
      "|2754|         92|  2008-08-05|    2750|    1|<p>Validation sho...|\n",
      "|2757|        357|  2008-08-05|    2750|    3|<p>From the persp...|\n",
      "|2760|        304|  2008-08-05|    2750|    3|<p>It depends.</p...|\n",
      "|2761|         91|  2008-08-05|    2750|   12|<p>Well, one of t...|\n",
      "|2768|        198|  2008-08-05|    2750|    1|<p>You might wann...|\n",
      "|2779|        289|  2008-08-05|    2770|   21|<p>You need to ha...|\n",
      "|2789|    2089740|  2008-08-05|    2780|   15|<p>It's called <a...|\n",
      "|2790|        308|  2008-08-05|    2770|    6|<p>If you're usin...|\n",
      "|2817|        234|  2008-08-05|    2770|    8|<p>Currently in m...|\n",
      "|2831|        234|  2008-08-05|    1760|    4|<p>xUnit.net look...|\n",
      "|2843|         36|  2008-08-05|    2840|   32|<p>You can use <c...|\n",
      "|2855|         36|  2008-08-05|    2840|    0|<p>I believe you'...|\n",
      "|2908|    1384652|  2008-08-05|    2900|    1|<p>Just to check,...|\n",
      "|2911|        271|  2008-08-05|    2900|    1|<p>Does the apach...|\n",
      "|2915|        457|  2008-08-05|    2900|    0|<p>If indeed you ...|\n",
      "|2943|        454|  2008-08-05|    2900|    0|<blockquote>\\n  <...|\n",
      "+----+-----------+------------+--------+-----+--------------------+\n",
      "only showing top 100 rows\n",
      "root\n",
      " |-- Id: integer (nullable = true)\n",
      " |-- OwnerUserId: integer (nullable = true)\n",
      " |-- CreationDate: date (nullable = true)\n",
      " |-- ClosedDate: date (nullable = true)\n",
      " |-- Score: integer (nullable = true)\n",
      " |-- Title: string (nullable = true)\n",
      " |-- Body: string (nullable = true)\n",
      "+-----+-----------+------------+----------+-----+--------------------+--------------------+\n",
      "|   Id|OwnerUserId|CreationDate|ClosedDate|Score|               Title|                Body|\n",
      "+-----+-----------+------------+----------+-----+--------------------+--------------------+\n",
      "|   80|         26|  2008-08-01|      null|   26|SQLStatement.exec...|<p>I've written a...|\n",
      "|   90|         58|  2008-08-01|2012-12-26|  144|Good branching an...|<p>Are there any ...|\n",
      "|  120|         83|  2008-08-01|      null|   21|   ASP.NET Site Maps|<p>Has anyone got...|\n",
      "|  180|    2089740|  2008-08-01|      null|   53|Function for crea...|<p>This is someth...|\n",
      "|  260|         91|  2008-08-01|      null|   49|Adding scripting ...|<p>I have a littl...|\n",
      "|  330|         63|  2008-08-02|      null|   29|Should I use nest...|<p>I am working o...|\n",
      "|  470|         71|  2008-08-02|2016-03-26|   13|Homegrown consump...|<p>I've been writ...|\n",
      "|  580|         91|  2008-08-02|      null|   21|Deploying SQL Ser...|<p>I wonder how y...|\n",
      "|  650|        143|  2008-08-03|      null|   79|Automatically upd...|<p>I would like t...|\n",
      "|  810|        233|  2008-08-03|      null|    9|Visual Studio Set...|<p>I'm trying to ...|\n",
      "|  930|        245|  2008-08-04|      null|   28|How do I connect ...|<p>What's the sim...|\n",
      "| 1010|         67|  2008-08-04|      null|   14|How to get the va...|<p>I need to grab...|\n",
      "| 1040|        254|  2008-08-04|      null|   42|How do I delete a...|<p>I'm looking fo...|\n",
      "| 1070|        236|  2008-08-04|      null|   17|Process size on UNIX|<p>What is the co...|\n",
      "| 1160|        120|  2008-08-04|      null|   36|Use SVN Revision ...|<p>I am using CCN...|\n",
      "| 1180|        281|  2008-08-04|      null|   17|How to make subdo...|<p>I am looking t...|\n",
      "| 1300|         91|  2008-08-04|      null|   23|Is nAnt still sup...|<p>I am using MSB...|\n",
      "| 1390|         60|  2008-08-04|      null|   18|Is Windows Server...|<p>I'm setting up...|\n",
      "| 1600|        230|  2008-08-04|      null|   18|What is the best ...|<p>I always creat...|\n",
      "| 1610|        328|  2008-08-04|      null|   63|Can I logically r...|<p>If I'm adding ...|\n",
      "| 1760|        234|  2008-08-05|      null|   51|.NET Unit Testing...|<p>Getting back i...|\n",
      "| 1790|        194|  2008-08-05|      null|   13|Federated (Synced...|<p>Is it possible...|\n",
      "| 1970|        116|  2008-08-05|      null|   10|What language do ...|<p>PostgreSQL is ...|\n",
      "| 2120|        383|  2008-08-05|      null|   77|Convert HashBytes...|<p>I want to get ...|\n",
      "| 2250|        383|  2008-08-05|      null|   83|Datatable vs Dataset|<p>I currently us...|\n",
      "| 2300|        193|  2008-08-05|      null|   10|How do I traverse...|<P>I want to be a...|\n",
      "| 2530|        307|  2008-08-05|      null| 1614|How do you disabl...|<p>How do you dis...|\n",
      "| 2540|        136|  2008-08-05|2014-04-03|   39|Good STL-like lib...|<p>What are good ...|\n",
      "| 2550|        308|  2008-08-05|      null|   16|What are effectiv...|<p>A quick glance...|\n",
      "| 2630|         17|  2008-08-05|2012-02-22|   14|What are your fav...|<p>I just found /...|\n",
      "| 2750|        435|  2008-08-05|      null|    7|Data verification...|<p>I'm wondering ...|\n",
      "| 2770|        447|  2008-08-05|      null|   27|Global Exception ...|<p>When working o...|\n",
      "| 2780|         45|  2008-08-05|      null|   12|Converting ARBG t...|<p>Let's say that...|\n",
      "| 2840|        383|  2008-08-05|      null|   32|Paging SQL Server...|<p>How do I page ...|\n",
      "| 2900|        454|  2008-08-05|      null|   14|MySQL/Apache Erro...|<p>I am getting t...|\n",
      "| 2970|         58|  2008-08-05|2012-03-06|   17|My website got ha...|<p>My dad called ...|\n",
      "| 3150|        370|  2008-08-06|      null|   76|How to set up uni...|<p>I'm having tro...|\n",
      "| 3180|        479|  2008-08-06|2012-08-13|   29|Anyone soloing us...|<p>Is there anyon...|\n",
      "| 3230|        370|  2008-08-06|      null|   25|How do you pack a...|<p>I'm wondering ...|\n",
      "| 3260|        186|  2008-08-06|      null|   46|Peak detection of...|<p>We use a data ...|\n",
      "| 3400|         35|  2008-08-06|      null|   25|How do you get le...|<p><strong>Note:<...|\n",
      "| 3470|        383|  2008-08-06|      null|   12|How do I Transfor...|<p>I have a very ...|\n",
      "| 3510|        383|  2008-08-06|      null|   16|What does the ter...|<p>What is BODMAS...|\n",
      "| 3530|    1388162|  2008-08-06|      null|   41|How do I run Rake...|<p>I have a <code...|\n",
      "| 3790|        560|  2008-08-06|      null|    3|Is there a WMI Re...|<p>I've been work...|\n",
      "| 4080|        235|  2008-08-06|2012-05-05|   92|What code analysi...|<p>What code anal...|\n",
      "| 4110|        369|  2008-08-06|2014-12-30|    7|What program can ...|<p>I've been task...|\n",
      "| 4170|       null|  2008-08-07|      null|    9|How to learn ADO.NET|<p>I need to lear...|\n",
      "| 4230|        392|  2008-08-07|      null|   34|The Difference Be...|<p>I've been doin...|\n",
      "| 4320|    1525924|  2008-08-07|      null|    2|ASP.Net 2.0 Appli...|<p>Is it \"accepta...|\n",
      "| 4430|        349|  2008-08-07|      null|   46|How to easily con...|<p>Is there avail...|\n",
      "| 4610|        383|  2008-08-07|      null|   11|How can I create ...|<p>How is it poss...|\n",
      "| 4630|        287|  2008-08-07|      null|    8|How can I Java we...|<p>Example: I hav...|\n",
      "| 4670|        634|  2008-08-07|      null|   15|DVCS Choices - Wh...|<p>So I want to g...|\n",
      "| 4850|         41|  2008-08-07|      null|   16|   C# and Arrow Keys|<p>I am new to C#...|\n",
      "| 4860|        661|  2008-08-07|      null|    8|Authoritative sou...|<p>We have a ques...|\n",
      "| 4870|        483|  2008-08-07|      null|   11|Why is this regul...|<p>I'm writing a ...|\n",
      "| 4880|        323|  2008-08-07|      null|   22|Is a \"Confirm Ema...|<p>My organizatio...|\n",
      "| 4930|        668|  2008-08-07|      null|   11|How to reference ...|<p>I'm developing...|\n",
      "| 5170|        383|  2008-08-07|2012-10-18|   90|SQL Server Manage...|<p>I was wonderin...|\n",
      "| 5260|        106|  2008-08-07|      null|    4|What is the best ...|<p>I have a situa...|\n",
      "| 5460|        590|  2008-08-07|2012-11-16|    3|Telligent's Commu...|<p>The company I ...|\n",
      "| 5600|        615|  2008-08-08|      null|   37|Tables with no Pr...|<p>I have several...|\n",
      "| 5690|        364|  2008-08-08|      null|    2|MVC Preview 4 - N...|<p>I have a route...|\n",
      "| 5880|        721|  2008-08-08|      null|    6|Are there any neg...|<p>I'm pretty new...|\n",
      "| 6080|        758|  2008-08-08|      null|   14|What to use for l...|<p>We are in the ...|\n",
      "| 6110|        754|  2008-08-08|      null|    3|Normalizing a Tab...|<p>I've been hand...|\n",
      "| 6130|        763|  2008-08-08|      null|   56| Repair SVN Checksum|<p>I'm using subc...|\n",
      "| 6210|        721|  2008-08-08|      null|    0|E-mail Notifications|<p>In a .net syst...|\n",
      "| 6340|         58|  2008-08-08|      null|   10|Multiple foreign ...|<p>I've got a tab...|\n",
      "| 6430|        785|  2008-08-08|      null|    3|How to programmat...|<p>I'm suddenly b...|\n",
      "| 6440|        560|  2008-08-08|      null|   17|.NET 3.5 Redistri...|<P>I've been usin...|\n",
      "| 6530|        233|  2008-08-09|      null|    7|Where should I pu...|<p>I have a ASP.N...|\n",
      "| 6890|        636|  2008-08-09|      null|    5|How to wait for t...|<p>I have some co...|\n",
      "| 7180|        274|  2008-08-10|      null|    4|   Animation in .NET|<p>What is a good...|\n",
      "| 7190|        371|  2008-08-10|      null|    9|Setting up Contin...|<p>What tools wou...|\n",
      "| 7260|        889|  2008-08-10|2013-05-03|   48|How do I setup Pu...|<p>How do I setup...|\n",
      "| 7440|        889|  2008-08-11|2012-12-22|   31|What do you use t...|<p>The company I'...|\n",
      "| 7470|        150|  2008-08-11|      null|    0|RSS feeds from Ga...|<p>After a couple...|\n",
      "| 7540|        122|  2008-08-11|      null|    6|Some kind of task...|<p>Recently I hav...|\n",
      "| 7720|        998|  2008-08-11|      null|   33|Packaging Java ap...|<p>I am writing a...|\n",
      "| 7880|        432|  2008-08-11|      null|   15|How do you open a...|<p>I want to open...|\n",
      "| 7940|     428190|  2008-08-11|2013-03-20|    8|How important is ...|<p>Even though I ...|\n",
      "| 7990|         96|  2008-08-11|2012-08-17|   19|Printing from a ....|<p>I am working o...|\n",
      "| 8050|        383|  2008-08-11|2013-05-07|   35|Beginners Guide t...|<p>During the bet...|\n",
      "| 8140|        277|  2008-08-11|      null|   14|Suggestions for A...|<p>Is there a gen...|\n",
      "| 8790|        292|  2008-08-12|      null|   25|Ant build scripts...|<p>I have a build...|\n",
      "| 8800|         61|  2008-08-12|      null|   63|Best implementati...|<p>So I've been p...|\n",
      "| 8830|        738|  2008-08-12|      null|    0|Not showing Dialo...|<p>When opening A...|\n",
      "| 8880|        672|  2008-08-12|      null|    0|Get list of domai...|<p>Using the Wind...|\n",
      "| 8940|       1111|  2008-08-12|      null|    0|VMWare Server Und...|<p>With VMWare Se...|\n",
      "| 8950|        509|  2008-08-12|      null|    0|SharePoint WSS 3....|<p>We have a Shar...|\n",
      "| 8970|         85|  2008-08-12|      null|    6|Accessing iSight ...|<p>Is it possible...|\n",
      "| 9240|       1144|  2008-08-12|      null|   10|Interfaces on dif...|<p>Say you have a...|\n",
      "| 9410|        432|  2008-08-13|      null|  334|How do you pass a...|<p>I want to crea...|\n",
      "| 9570|       1163|  2008-08-13|      null|    1|What libraries do...|<p>I'm integratin...|\n",
      "| 9650|       1084|  2008-08-13|      null|   14|Lisp/Scheme inter...|<p><br />\\nI've b...|\n",
      "| 9750|        123|  2008-08-13|      null|    5|How can I reverse...|<p>I was reading ...|\n",
      "|10190|        373|  2008-08-13|      null|   10|How to return a p...|<p>Many applicati...|\n",
      "|10230|        288|  2008-08-13|      null|   12|Checking for stri...|<p>Which is more ...|\n",
      "+-----+-----------+------------+----------+-----+--------------------+--------------------+\n",
      "only showing top 100 rows\n",
      "\n",
      "CPU times: total: 46.9 ms\n",
      "Wall time: 17.4 s\n"
     ]
    }
   ],
   "source": [
    "%%time\n",
    "from pyspark.sql import *\n",
    "from pyspark.sql.functions import *\n",
    "from pyspark.sql.types import *\n",
    "\n",
    "# Declare the spark context\n",
    "spark = SparkSession \\\n",
    "    .builder \\\n",
    "    .master('local[4]') \\\n",
    "    .appName(\"ASM1\") \\\n",
    "    .config('spark.jars.packages', 'org.mongodb.spark:mongo-spark-connector_2.12:3.0.1') \\\n",
    "    .getOrCreate()\n",
    "\n",
    "# Load data to df\n",
    "def read_data(spark, source, schema, table_name):\n",
    "    # Read the data from corresponding collections in Mongo\n",
    "    df = spark.read \\\n",
    "        .format(source) \\\n",
    "        .option(\"uri\", f\"mongodb://127.0.0.1:27017/ASM1.{table_name}\")\\\n",
    "        .load()\n",
    "    \n",
    "    # Handle the \"NA\" value in `OwnerUserId`\n",
    "    df = df.withColumn(\"OwnerUserId\", \n",
    "                       when(df[\"OwnerUserId\"] == \"NA\", None).otherwise(df[\"OwnerUserId\"])\n",
    "                      )\n",
    "    \n",
    "    # Cast the columes in each collection to the desired data type\n",
    "    if table_name == \"Answer\":\n",
    "        df = df.select(col(\"Id\").cast(\"int\"), \n",
    "                       col(\"OwnerUserId\").cast(\"int\"), \n",
    "                       col(\"CreationDate\").cast(\"date\"),\n",
    "                       col(\"ParentId\").cast(\"int\"),\n",
    "                       col(\"Score\").cast(\"int\"),\n",
    "                       col(\"Body\").cast(\"string\")\n",
    "                      )\n",
    "    else:\n",
    "        df = df.select(col(\"Id\").cast(\"int\"), \n",
    "                       col(\"OwnerUserId\").cast(\"int\"), \n",
    "                       col(\"CreationDate\").cast(\"date\"),\n",
    "                       col(\"ClosedDate\").cast(\"date\"),\n",
    "                       col(\"Score\").cast(\"int\"),\n",
    "                       col(\"Title\").cast(\"string\"),\n",
    "                       col(\"Body\").cast(\"string\")\n",
    "                      )\n",
    "        \n",
    "    return spark.createDataFrame(df.rdd, schema)\n",
    "\n",
    "# Declare the Struct type for answer df\n",
    "schema_ans = StructType([\n",
    "    StructField(\"Id\", IntegerType()),\n",
    "    StructField(\"OwnerUserId\", IntegerType()),\n",
    "    StructField(\"CreationDate\", DateType()),\n",
    "    StructField(\"ParentId\", IntegerType()),\n",
    "    StructField(\"Score\", IntegerType()),\n",
    "    StructField(\"Body\", StringType())\n",
    "])\n",
    "\n",
    "# Load the data to ans_df\n",
    "ans_df = read_data(spark, 'com.mongodb.spark.sql.DefaultSource', schema_ans, \"Answer\")\n",
    "ans_df.printSchema()\n",
    "ans_df.show(100)\n",
    "\n",
    "# Declare the Struct type for question df\n",
    "schema_quest = StructType([\n",
    "    StructField(\"Id\", IntegerType()),\n",
    "    StructField(\"OwnerUserId\", IntegerType()),\n",
    "    StructField(\"CreationDate\", DateType()),\n",
    "    StructField(\"ClosedDate\", DateType()),\n",
    "    StructField(\"Score\", IntegerType()),\n",
    "    StructField(\"Title\", StringType()),\n",
    "    StructField(\"Body\", StringType())\n",
    "])\n",
    "\n",
    "# Load the data to quest_df\n",
    "quest_df = read_data(spark, 'com.mongodb.spark.sql.DefaultSource', schema_quest, \"Question\")\n",
    "quest_df.printSchema()\n",
    "quest_df.show(100)\n"
   ]
  },
  {
   "cell_type": "markdown",
   "id": "7f56afaf",
   "metadata": {
    "pycharm": {
     "name": "#%% md\n"
    }
   },
   "source": [
    "## Requirement 1: Calculate the number of occurrences of programming languages"
   ]
  },
  {
   "cell_type": "markdown",
   "id": "eb9d3419",
   "metadata": {
    "pycharm": {
     "name": "#%% md\n"
    }
   },
   "source": [
    "### Option 1: Using Native SQL"
   ]
  },
  {
   "cell_type": "code",
   "execution_count": 3,
   "id": "c1cb3048",
   "metadata": {
    "pycharm": {
     "name": "#%%\n"
    },
    "scrolled": true
   },
   "outputs": [
    {
     "name": "stdout",
     "output_type": "stream",
     "text": [
      "+--------------------+-----+\n",
      "|Programming_Language|Count|\n",
      "+--------------------+-----+\n",
      "|                Java|65142|\n",
      "|              Python|21578|\n",
      "|                 C++|18918|\n",
      "|                  C#|25037|\n",
      "|                  Go|42706|\n",
      "|                Ruby| 7337|\n",
      "|          Javascript|11740|\n",
      "|                 PHP|36538|\n",
      "|                HTML|55131|\n",
      "|                 CSS|22656|\n",
      "|                 SQL|63072|\n",
      "+--------------------+-----+\n",
      "\n",
      "Wall time: 2min 46s\n"
     ]
    }
   ],
   "source": [
    "%%time\n",
    "# Register the quest_df as a temporary view in Spark SQL\n",
    "quest_df.createOrReplaceTempView(\"questions\")\n",
    "\n",
    "# Define a list of programming languages\n",
    "programming_languages = ['Java', 'Python', 'C\\+\\+', 'C#', 'Go', 'Ruby', 'Javascript', 'PHP', 'HTML', 'CSS', 'SQL']\n",
    "\n",
    "# Use a for loop to count the occurrences of each programming language and union the results\n",
    "result = spark.sql(f\"SELECT '{programming_languages[0]}' as Programming_Language, COUNT(*) as Count FROM questions WHERE Body LIKE '%{programming_languages[0]}%'\")\n",
    "for language in programming_languages[1:]:\n",
    "    result = result.union(spark.sql(f\"SELECT '{language}' as Programming_Language, COUNT(*) as Count FROM questions WHERE Body LIKE '%{language}%'\"))\n",
    "\n",
    "# Show the result as a data frame\n",
    "result.show()\n"
   ]
  },
  {
   "cell_type": "markdown",
   "id": "279d8634",
   "metadata": {
    "pycharm": {
     "name": "#%% md\n"
    }
   },
   "source": [
    "### Option 2: Using Object Expression"
   ]
  },
  {
   "cell_type": "code",
   "execution_count": 4,
   "id": "ad78bc24",
   "metadata": {
    "pycharm": {
     "name": "#%%\n"
    }
   },
   "outputs": [
    {
     "name": "stdout",
     "output_type": "stream",
     "text": [
      "+-----+--------------------+\n",
      "|Count|Programming_Language|\n",
      "+-----+--------------------+\n",
      "|65142|                Java|\n",
      "|21578|              Python|\n",
      "|18918|                 C++|\n",
      "|25037|                  C#|\n",
      "|42706|                  Go|\n",
      "| 7337|                Ruby|\n",
      "|11740|          Javascript|\n",
      "|36538|                 PHP|\n",
      "|55131|                HTML|\n",
      "|22656|                 CSS|\n",
      "|63072|                 SQL|\n",
      "+-----+--------------------+\n",
      "\n",
      "Wall time: 3min 3s\n"
     ]
    }
   ],
   "source": [
    "%%time\n",
    "programming_languages = ['Java', 'Python', 'C++', 'C#', 'Go', 'Ruby', 'Javascript', 'PHP', 'HTML', 'CSS', 'SQL']\n",
    "\n",
    "# Start with a dataframe containing the first programming language\n",
    "result = quest_df.filter(expr(f\"Body like '%{programming_languages[0]}%'\")) \\\n",
    "                 .agg(count(lit(1)).alias(\"Count\")) \\\n",
    "                 .withColumn(\"Programming_Language\", lit(programming_languages[0]))\n",
    "\n",
    "# Use a for loop to count the occurrences of each programming language and union the results\n",
    "for language in programming_languages[1:]:\n",
    "    df = quest_df.filter(expr(f\"Body like '%{language}%'\")) \\\n",
    "                 .agg(count(lit(1)).alias(\"Count\")) \\\n",
    "                 .withColumn(\"Programming_Language\", lit(language))\n",
    "    result = result.union(df)\n",
    "\n",
    "# Show the result as a data frame\n",
    "result.show()"
   ]
  },
  {
   "cell_type": "markdown",
   "id": "65addc31",
   "metadata": {
    "pycharm": {
     "name": "#%% md\n"
    }
   },
   "source": [
    "## Requirement 2: Find the most used domains in the questions"
   ]
  },
  {
   "cell_type": "code",
   "execution_count": 5,
   "id": "dfbb5d34",
   "metadata": {
    "pycharm": {
     "name": "#%%\n"
    },
    "scrolled": false
   },
   "outputs": [
    {
     "name": "stdout",
     "output_type": "stream",
     "text": [
      "+--------------------+-----+\n",
      "|              Domain|Count|\n",
      "+--------------------+-----+\n",
      "|   i.stack.imgur.com|53322|\n",
      "|  system.out.println|12449|\n",
      "|  msdn.microsoft.com| 4705|\n",
      "| schemas.android.com| 3520|\n",
      "|    en.wikipedia.org| 3187|\n",
      "| ajax.googleapis.com| 2840|\n",
      "|   r.layout.activity| 2414|\n",
      "|      www.google.com| 2225|\n",
      "|     code.google.com| 2174|\n",
      "|     www.example.com| 2111|\n",
      "|developer.android...| 2022|\n",
      "|developers.google...| 1830|\n",
      "|         i.imgur.com| 1703|\n",
      "|     www.youtube.com| 1631|\n",
      "|system.collection...| 1568|\n",
      "| developer.apple.com| 1336|\n",
      "|schemas.microsoft...| 1273|\n",
      "|     code.jquery.com| 1220|\n",
      "|     gist.github.com| 1162|\n",
      "|    system.out.print| 1152|\n",
      "+--------------------+-----+\n",
      "only showing top 20 rows\n",
      "\n",
      "Wall time: 49.5 s\n"
     ]
    }
   ],
   "source": [
    "%%time\n",
    "# Extract urls from the Body of the Questions\n",
    "url_reg = r'([a-zA-Z]+\\.)+([a-zA-Z]+)(\\.[a-zA-Z]+)+'\n",
    "url_df = quest_df.select(regexp_extract(col('Body'), url_reg, 0).alias('Domain'))\n",
    "\n",
    "# Remove the all empty values\n",
    "url_df = url_df.withColumn(\"Domain\", lower(\"Domain\"))\\\n",
    "                .withColumn(\"Domain\", trim(\"Domain\"))\\\n",
    "                .filter(col('Domain').isNotNull())\\\n",
    "                .filter(col('Domain') != \"\")\n",
    "\n",
    "# Count the occurrences of each domain and show the first 20 most used values\n",
    "url_df.createOrReplaceTempView(\"domains\")\n",
    "url_result = spark.sql(\"SELECT Domain, COUNT(*) as Count FROM domains GROUP BY Domain\")\n",
    "url_result = url_result.select(\"Domain\", \"Count\").orderBy(col(\"Count\").desc())\n",
    "url_result.show(20)"
   ]
  },
  {
   "cell_type": "markdown",
   "id": "9d398b50",
   "metadata": {
    "pycharm": {
     "name": "#%% md\n"
    }
   },
   "source": [
    "## Requirement 3: Calculate the total score of the User by day"
   ]
  },
  {
   "cell_type": "markdown",
   "id": "2095f5bb",
   "metadata": {
    "pycharm": {
     "name": "#%% md\n"
    }
   },
   "source": [
    "### Option 1: Using DF API"
   ]
  },
  {
   "cell_type": "code",
   "execution_count": 6,
   "id": "a8776061",
   "metadata": {
    "pycharm": {
     "name": "#%%\n"
    },
    "scrolled": false
   },
   "outputs": [
    {
     "name": "stdout",
     "output_type": "stream",
     "text": [
      "+-----------+------------+-----+\n",
      "|OwnerUserId|CreationDate|Score|\n",
      "+-----------+------------+-----+\n",
      "|          1|  2008-08-04|    7|\n",
      "|          1|  2008-08-14|    9|\n",
      "|          1|  2008-08-17|   11|\n",
      "|          1|  2008-08-28|   22|\n",
      "|          1|  2008-11-26|   32|\n",
      "|          1|  2008-12-22|   43|\n",
      "|          1|  2008-12-30|   46|\n",
      "|          1|  2009-01-08|   66|\n",
      "|          1|  2009-06-07|  121|\n",
      "|          1|  2009-07-19|  125|\n",
      "|          1|  2009-10-08|  175|\n",
      "|          1|  2009-11-21|  207|\n",
      "|          1|  2009-12-03|  211|\n",
      "|          1|  2010-04-23|  212|\n",
      "|          1|  2012-02-24|  290|\n",
      "|          3|  2008-11-16|    0|\n",
      "|          3|  2009-01-09|    4|\n",
      "|          3|  2009-01-12|   17|\n",
      "|          3|  2009-02-09|   66|\n",
      "|          3|  2013-01-23|   68|\n",
      "+-----------+------------+-----+\n",
      "only showing top 20 rows\n",
      "\n",
      "Wall time: 51.4 s\n"
     ]
    }
   ],
   "source": [
    "%%time\n",
    "#Remove the null value from ans_df and quest_df\n",
    "ans_df = ans_df.filter(col(\"OwnerUserId\").isNotNull())\n",
    "quest_df = quest_df.filter(col(\"OwnerUserId\").isNotNull())\n",
    "\n",
    "# Define the window specification\n",
    "windowSpec = Window.partitionBy(col(\"OwnerUserId\")) \\\n",
    "                    .orderBy(col(\"OwnerUserId\"), col(\"CreationDate\")) \\\n",
    "                    .rowsBetween(Window.unboundedPreceding, Window.currentRow)\n",
    "\n",
    "# Define the DataFrame to use\n",
    "df = ans_df.select(col(\"OwnerUserId\"), col(\"CreationDate\"), col(\"Score\")) \\\n",
    "           .union(quest_df.select(col(\"OwnerUserId\"), col(\"CreationDate\"), col(\"Score\")))\n",
    "\n",
    "# Sum the Score by `OwnerUserId` and `CreationDate`\n",
    "df = df.groupBy(col(\"OwnerUserId\"), col(\"CreationDate\")) \\\n",
    "        .agg(sum(col(\"Score\")).alias(\"Score\"))\n",
    "\n",
    "# Calculate the total score by day using Windowing\n",
    "result = df.withColumn(\"Score\", sum(\"Score\").over(windowSpec))\n",
    "result.orderBy(\"OwnerUserId\", \"CreationDate\").show()"
   ]
  },
  {
   "cell_type": "markdown",
   "id": "c443428c",
   "metadata": {
    "pycharm": {
     "name": "#%% md\n"
    }
   },
   "source": [
    "### Option 2: Using Spark SQL"
   ]
  },
  {
   "cell_type": "code",
   "execution_count": 9,
   "id": "27789506",
   "metadata": {
    "pycharm": {
     "name": "#%%\n"
    }
   },
   "outputs": [
    {
     "name": "stdout",
     "output_type": "stream",
     "text": [
      "+-----------+------------+-----+-----------+\n",
      "|OwnerUserId|CreationDate|Score|Total_Score|\n",
      "+-----------+------------+-----+-----------+\n",
      "|          1|  2008-08-04|    7|          7|\n",
      "|          1|  2008-08-14|    2|          9|\n",
      "|          1|  2008-08-17|    2|         11|\n",
      "|          1|  2008-08-28|   11|         22|\n",
      "|          1|  2008-11-26|   10|         32|\n",
      "|          1|  2008-12-22|   11|         43|\n",
      "|          1|  2008-12-30|    3|         46|\n",
      "|          1|  2009-01-08|   20|         66|\n",
      "|          1|  2009-06-07|   55|        121|\n",
      "|          1|  2009-07-19|    4|        125|\n",
      "|          1|  2009-10-08|   50|        175|\n",
      "|          1|  2009-11-21|   32|        207|\n",
      "|          1|  2009-12-03|    4|        211|\n",
      "|          1|  2010-04-23|    1|        212|\n",
      "|          1|  2012-02-24|   78|        290|\n",
      "|          3|  2008-11-16|    0|          0|\n",
      "|          3|  2009-01-09|    4|          4|\n",
      "|          3|  2009-01-12|   13|         17|\n",
      "|          3|  2009-02-09|   49|         66|\n",
      "|          3|  2013-01-23|    2|         68|\n",
      "+-----------+------------+-----+-----------+\n",
      "only showing top 20 rows\n",
      "\n",
      "Wall time: 48.1 s\n"
     ]
    }
   ],
   "source": [
    "%%time\n",
    "#Remove the null value from ans_df and quest_df\n",
    "ans_df = ans_df.filter(col(\"OwnerUserId\").isNotNull())\n",
    "quest_df = quest_df.filter(col(\"OwnerUserId\").isNotNull())\n",
    "\n",
    "# Register the data frames as temporary tables\n",
    "ans_df.createOrReplaceTempView(\"ans_table\")\n",
    "quest_df.createOrReplaceTempView(\"quest_table\")\n",
    "\n",
    "# Define the SQL query to calculate the total score by day using Windowing\n",
    "result = spark.sql(\"\"\"\n",
    "    SELECT OwnerUserId, CreationDate, SUM(Score) AS Score, SUM(SUM(Score)) OVER \n",
    "    (PARTITION BY OwnerUserId ORDER BY OwnerUserId, CreationDate ROWS BETWEEN UNBOUNDED PRECEDING AND CURRENT ROW) AS Total_Score \n",
    "    FROM (\n",
    "        SELECT OwnerUserId, CreationDate, Score FROM ans_table \n",
    "        UNION ALL \n",
    "        SELECT OwnerUserId, CreationDate, Score FROM quest_table\n",
    "    )\n",
    "    GROUP BY OwnerUserId, CreationDate\n",
    "    ORDER BY OwnerUserId, CreationDate\n",
    "\"\"\")\n",
    "\n",
    "result.show()"
   ]
  },
  {
   "cell_type": "markdown",
   "id": "687de402",
   "metadata": {
    "pycharm": {
     "name": "#%% md\n"
    }
   },
   "source": [
    "## Requirement 4: Calculate the total number of scores gained by the User in a period of time"
   ]
  },
  {
   "cell_type": "markdown",
   "id": "3a178f78",
   "metadata": {
    "pycharm": {
     "name": "#%% md\n"
    }
   },
   "source": [
    "### Option 1: Using Dataframe API"
   ]
  },
  {
   "cell_type": "code",
   "execution_count": 14,
   "id": "1f850ce8",
   "metadata": {
    "pycharm": {
     "name": "#%%\n"
    }
   },
   "outputs": [
    {
     "name": "stdout",
     "output_type": "stream",
     "text": [
      "+-----------+----------+\n",
      "|OwnerUserId|TotalScore|\n",
      "+-----------+----------+\n",
      "|          1|       212|\n",
      "|          3|        66|\n",
      "|          4|       105|\n",
      "|          5|       197|\n",
      "|          9|        17|\n",
      "|         13|       965|\n",
      "|         17|       189|\n",
      "|         19|         4|\n",
      "|         20|        23|\n",
      "|         22|        15|\n",
      "|         23|        32|\n",
      "|         24|         1|\n",
      "|         25|        81|\n",
      "|         26|       140|\n",
      "|         27|         9|\n",
      "|         29|      1871|\n",
      "|         30|         2|\n",
      "|         33|       274|\n",
      "|         34|        29|\n",
      "|         35|        60|\n",
      "+-----------+----------+\n",
      "only showing top 20 rows\n",
      "\n",
      "Wall time: 34.9 s\n"
     ]
    }
   ],
   "source": [
    "%%time\n",
    "from datetime import datetime as date\n",
    "\n",
    "#Remove the null value from ans_df and quest_df\n",
    "ans_df = ans_df.filter(col(\"OwnerUserId\").isNotNull())\n",
    "quest_df = quest_df.filter(col(\"OwnerUserId\").isNotNull())\n",
    "\n",
    "# Define the DataFrame to use by union the Question DF and the Answer DF\n",
    "df = ans_df.select(col(\"OwnerUserId\"), col(\"CreationDate\"), col(\"Score\")) \\\n",
    "           .union(quest_df.select(col(\"OwnerUserId\"), col(\"CreationDate\"), col(\"Score\")))\n",
    "\n",
    "# Define start_date and end_date as date objects\n",
    "start_date = date(2008, 4, 4)\n",
    "end_date = date(2010, 10, 10)\n",
    "\n",
    "# Filter the CreationDate by the Start date and End date, sum the score by OwnerUserId\n",
    "result = df.filter((col(\"CreationDate\") >= start_date) & (col(\"CreationDate\") <= end_date)) \\\n",
    "            .groupBy(\"OwnerUserId\") \\\n",
    "            .agg(sum(\"Score\").alias(\"TotalScore\"))\\\n",
    "            .orderBy(\"OwnerUserId\")\\\n",
    "            .show()"
   ]
  },
  {
   "cell_type": "markdown",
   "id": "7ba489e8",
   "metadata": {
    "pycharm": {
     "name": "#%% md\n"
    }
   },
   "source": [
    "### Option 2: Using Spark SQL"
   ]
  },
  {
   "cell_type": "code",
   "execution_count": 15,
   "id": "643cdf5a",
   "metadata": {
    "pycharm": {
     "name": "#%%\n"
    }
   },
   "outputs": [
    {
     "name": "stdout",
     "output_type": "stream",
     "text": [
      "+-----------+----------+\n",
      "|OwnerUserId|TotalScore|\n",
      "+-----------+----------+\n",
      "|          1|       212|\n",
      "|          3|        66|\n",
      "|          4|       105|\n",
      "|          5|       197|\n",
      "|          9|        17|\n",
      "|         13|       965|\n",
      "|         17|       185|\n",
      "|         19|         4|\n",
      "|         20|        23|\n",
      "|         22|        15|\n",
      "|         23|        32|\n",
      "|         24|         1|\n",
      "|         25|        81|\n",
      "|         26|       129|\n",
      "|         27|         9|\n",
      "|         29|      1871|\n",
      "|         30|         2|\n",
      "|         33|       274|\n",
      "|         34|        29|\n",
      "|         35|        60|\n",
      "+-----------+----------+\n",
      "only showing top 20 rows\n",
      "\n",
      "Wall time: 34.6 s\n"
     ]
    }
   ],
   "source": [
    "%%time\n",
    "from pyspark.sql.functions import sum\n",
    "\n",
    "#Remove the null value from ans_df and quest_df\n",
    "ans_df = ans_df.filter(col(\"OwnerUserId\").isNotNull())\n",
    "quest_df = quest_df.filter(col(\"OwnerUserId\").isNotNull())\n",
    "\n",
    "# Create a temporary view for the answer and question dataframes\n",
    "ans_df.createOrReplaceTempView(\"ans\")\n",
    "quest_df.createOrReplaceTempView(\"quest\")\n",
    "\n",
    "# Union the answer and question dataframes\n",
    "union_df = spark.sql(\"SELECT OwnerUserId, CreationDate, Score FROM ans UNION SELECT OwnerUserId, CreationDate, Score FROM quest\")\n",
    "union_df.createOrReplaceTempView(\"union_df\")\n",
    "\n",
    "# Filter by start date and end date, group by OwnerUserId and sum the score\n",
    "start_date = \"2008-04-04\"\n",
    "end_date = \"2010-10-10\"\n",
    "result = spark.sql(f\"SELECT OwnerUserId, SUM(Score) AS TotalScore FROM union_df WHERE CreationDate BETWEEN '{start_date}' AND '{end_date}' GROUP BY OwnerUserId ORDER BY OwnerUserId\")\n",
    "\n",
    "result.show()"
   ]
  },
  {
   "cell_type": "markdown",
   "id": "75ef0cc2",
   "metadata": {
    "pycharm": {
     "name": "#%% md\n"
    }
   },
   "source": [
    "## Requirement 5: Find the question has more that 5 answers"
   ]
  },
  {
   "cell_type": "markdown",
   "id": "dc3ccfd2",
   "metadata": {
    "pycharm": {
     "name": "#%% md\n"
    }
   },
   "source": [
    "### Option 1: Using Dataframe API"
   ]
  },
  {
   "cell_type": "code",
   "execution_count": 18,
   "id": "602d8d5c",
   "metadata": {
    "pycharm": {
     "name": "#%%\n"
    }
   },
   "outputs": [
    {
     "name": "stdout",
     "output_type": "stream",
     "text": [
      "+----------+--------------------+--------------+\n",
      "|QuestionId|       QuestionTitle|NumberOfAnswer|\n",
      "+----------+--------------------+--------------+\n",
      "|       180|Function for crea...|             9|\n",
      "|       260|Adding scripting ...|             9|\n",
      "|       330|Should I use nest...|             9|\n",
      "|       580|Deploying SQL Ser...|            14|\n",
      "|       650|Automatically upd...|             6|\n",
      "|       930|How do I connect ...|             7|\n",
      "|      1160|Use SVN Revision ...|            12|\n",
      "|      1300|Is nAnt still sup...|             6|\n",
      "|      1610|Can I logically r...|             8|\n",
      "|      1760|.NET Unit Testing...|            11|\n",
      "|      1970|What language do ...|             7|\n",
      "|      2120|Convert HashBytes...|             7|\n",
      "|      2300|How do I traverse...|             6|\n",
      "|      2530|How do you disabl...|            38|\n",
      "|      2550|What are effectiv...|             6|\n",
      "|      2630|What are your fav...|            13|\n",
      "|      2750|Data verification...|             8|\n",
      "|      2840|Paging SQL Server...|             6|\n",
      "|      2900|MySQL/Apache Erro...|             9|\n",
      "|      2970|My website got ha...|             9|\n",
      "+----------+--------------------+--------------+\n",
      "only showing top 20 rows\n",
      "\n",
      "Wall time: 1min 1s\n"
     ]
    }
   ],
   "source": [
    "%%time\n",
    "# Set up bucketing for question and answer collections\n",
    "ans_df.write.bucketBy(8, \"ParentId\").mode(\"overwrite\").saveAsTable(\"ans_bucketed\")\n",
    "quest_df.write.bucketBy(8, \"Id\").mode(\"overwrite\").saveAsTable(\"quest_bucketed\")\n",
    "\n",
    "# Perform bucketing join and count\n",
    "ans_bucketed = spark.read.table(\"ans_bucketed\").drop(\"Id\")\n",
    "quest_bucketd = spark.read.table(\"quest_bucketed\")\n",
    "\n",
    "spark.conf.set(\"spark.sql.autoBroadcastJoinThreshold\", -1)\n",
    "join_expr = ans_bucketed.ParentId == quest_bucketd.Id\n",
    "join_df = quest_bucketd.join(ans_bucketed, join_expr, \"inner\").groupBy(\"Id\", \"Title\").count().filter(\"count > 5\")\n",
    "\n",
    "join_df.orderBy(\"Id\") \\\n",
    "        .select(col(\"Id\").alias(\"QuestionId\"),\n",
    "                col(\"Title\").alias(\"QuestionTitle\"),\n",
    "                col(\"count\").alias(\"NumberOfAnswer\")\n",
    "                ).show()"
   ]
  },
  {
   "cell_type": "markdown",
   "id": "83a798ce",
   "metadata": {
    "pycharm": {
     "name": "#%% md\n"
    }
   },
   "source": [
    "### Option 2: Using Spark SQL"
   ]
  },
  {
   "cell_type": "code",
   "execution_count": 22,
   "id": "361963e4",
   "metadata": {
    "pycharm": {
     "name": "#%%\n"
    }
   },
   "outputs": [
    {
     "name": "stdout",
     "output_type": "stream",
     "text": [
      "+----------+--------------------+--------------+\n",
      "|QuestionId|       QuestionTitle|NumberOfAnswer|\n",
      "+----------+--------------------+--------------+\n",
      "|       180|Function for crea...|             9|\n",
      "|       260|Adding scripting ...|             9|\n",
      "|       330|Should I use nest...|             9|\n",
      "|       580|Deploying SQL Ser...|            14|\n",
      "|       650|Automatically upd...|             6|\n",
      "|       930|How do I connect ...|             7|\n",
      "|      1160|Use SVN Revision ...|            12|\n",
      "|      1300|Is nAnt still sup...|             6|\n",
      "|      1610|Can I logically r...|             8|\n",
      "|      1760|.NET Unit Testing...|            11|\n",
      "|      1970|What language do ...|             7|\n",
      "|      2120|Convert HashBytes...|             7|\n",
      "|      2300|How do I traverse...|             6|\n",
      "|      2530|How do you disabl...|            38|\n",
      "|      2550|What are effectiv...|             6|\n",
      "|      2630|What are your fav...|            13|\n",
      "|      2750|Data verification...|             8|\n",
      "|      2840|Paging SQL Server...|             6|\n",
      "|      2900|MySQL/Apache Erro...|             9|\n",
      "|      2970|My website got ha...|             9|\n",
      "+----------+--------------------+--------------+\n",
      "only showing top 20 rows\n",
      "\n",
      "Wall time: 59.8 s\n"
     ]
    }
   ],
   "source": [
    "%%time\n",
    "# Set up bucketing for question and answer collections\n",
    "spark.sql(\"DROP TABLE IF EXISTS ans_bucketed\")\n",
    "spark.sql(\"DROP TABLE IF EXISTS quest_bucketed\")\n",
    "\n",
    "ans_df.write.bucketBy(8, \"ParentId\").mode(\"overwrite\").saveAsTable(\"ans_bucketed\")\n",
    "quest_df.write.bucketBy(8, \"Id\").mode(\"overwrite\").saveAsTable(\"quest_bucketed\")\n",
    "\n",
    "# # Read table and create temp views\n",
    "# ans_bucketed = spark.read.table(\"ans_bucketed\").drop(\"Id\")\n",
    "# quest_bucketd = spark.read.table(\"quest_bucketed\")\n",
    "# ans_bucketed.createOrReplaceTempView(\"ans_bucketed\")\n",
    "# quest_bucketd.createOrReplaceTempView(\"quest_bucketed\")\n",
    "\n",
    "# Perform bucketing join and count\n",
    "spark.conf.set(\"spark.sql.autoBroadcastJoinThreshold\", -1)\n",
    "\n",
    "join_query = \"\"\"\n",
    "SELECT quest_bucketed.Id AS QuestionId, quest_bucketed.Title AS QuestionTitle, COUNT(*) AS NumberOfAnswer\n",
    "FROM quest_bucketed \n",
    "JOIN ans_bucketed ON ans_bucketed.ParentId = quest_bucketed.Id\n",
    "GROUP BY quest_bucketed.Id, quest_bucketed.Title\n",
    "HAVING COUNT(*) > 5\n",
    "ORDER BY quest_bucketed.Id\n",
    "\"\"\"\n",
    "\n",
    "result = spark.sql(join_query)\n",
    "result.show()\n"
   ]
  },
  {
   "cell_type": "markdown",
   "id": "0cdf371b",
   "metadata": {
    "pycharm": {
     "name": "#%% md\n"
    }
   },
   "source": [
    "## Requirement 6: Find the active users"
   ]
  },
  {
   "cell_type": "markdown",
   "id": "3913a796",
   "metadata": {
    "pycharm": {
     "name": "#%% md\n"
    }
   },
   "source": [
    "### Option 1: Using .join() two times"
   ]
  },
  {
   "cell_type": "code",
   "execution_count": 23,
   "id": "5ec1a9ce",
   "metadata": {
    "pycharm": {
     "name": "#%%\n"
    },
    "scrolled": false
   },
   "outputs": [
    {
     "name": "stdout",
     "output_type": "stream",
     "text": [
      "+--------+\n",
      "|count(1)|\n",
      "+--------+\n",
      "|     313|\n",
      "+--------+\n",
      "\n",
      "+-----------+---------------+----------+\n",
      "|OwnerUserId|NumberOfAnswers|TotalScore|\n",
      "+-----------+---------------+----------+\n",
      "|         91|             68|       543|\n",
      "|        184|             11|       636|\n",
      "|        357|             12|       672|\n",
      "|        377|             59|       204|\n",
      "|        572|             56|       339|\n",
      "|        987|             62|       241|\n",
      "|       1175|             61|       230|\n",
      "|       1288|            179|      1177|\n",
      "|       1583|            739|      2789|\n",
      "|       1585|             49|       826|\n",
      "|       1737|             59|       201|\n",
      "|       1786|             63|       651|\n",
      "|       1862|             58|       178|\n",
      "|       1942|             88|       421|\n",
      "|       1950|             26|      1582|\n",
      "|       1965|             68|       691|\n",
      "|       2147|             63|       263|\n",
      "|       2197|             19|       513|\n",
      "|       2238|             17|       655|\n",
      "|       2385|             85|       112|\n",
      "+-----------+---------------+----------+\n",
      "only showing top 20 rows\n",
      "\n",
      "Wall time: 35.4 s\n"
     ]
    }
   ],
   "source": [
    "%%time\n",
    "#Remove the null value from ans_df and quest_df\n",
    "ans_df = ans_df.filter(col(\"OwnerUserId\").isNotNull())\n",
    "quest_df = quest_df.filter(col(\"OwnerUserId\").isNotNull())\n",
    "\n",
    "#Filter users has more than 50 Answers or TotalScore > 500\n",
    "ans_active = ans_df.groupBy(\"OwnerUserId\")\\\n",
    "                    .agg(count(\"Id\").alias(\"NumberOfAnswers\"), sum(\"Score\").alias(\"TotalScore\"))\\\n",
    "                    .filter((col(\"NumberOfAnswers\") > 50) | (col(\"TotalScore\") > 500))\n",
    "# ans_active.agg(count(\"*\")).show() --> 4000\n",
    "\n",
    "# Set up bucketing for question and answer collections\n",
    "# ans_df.write.bucketBy(8, \"ParentId\").mode(\"overwrite\").saveAsTable(\"ans_bucketed\")\n",
    "# quest_df.write.bucketBy(8, \"Id\").mode(\"overwrite\").saveAsTable(\"quest_bucketed\")\n",
    "\n",
    "# Perform bucketing join and filter questions having 5 answers at the same day\n",
    "ans_bucketed = spark.read.table(\"ans_bucketed\").drop(\"Id\")\n",
    "quest_bucketd = spark.read.table(\"quest_bucketed\")\n",
    "\n",
    "spark.conf.set(\"spark.sql.autoBroadcastJoinThreshold\", -1)\n",
    "join_expr = ans_bucketed.ParentId == quest_bucketd.Id\n",
    "quest_active = quest_bucketd.join(ans_bucketed, join_expr, \"inner\")\\\n",
    "                            .filter(quest_bucketd[\"CreationDate\"] == ans_bucketed[\"CreationDate\"])\\\n",
    "                            .groupBy(quest_bucketd[\"Id\"], quest_bucketd[\"OwnerUserId\"]).count().filter(\"count > 5\")\n",
    "\n",
    "quest_active = quest_active.select(\"OwnerUserId\").distinct()\n",
    "# quest_active.agg(count(\"*\")).show() --> 8000\n",
    "\n",
    "# Join two active df to find active users\n",
    "spark.conf.set(\"spark.sql.shuffle.partitions\", 4)\n",
    "active_users = ans_active.join(quest_active, ans_active.OwnerUserId == quest_active.OwnerUserId, \"inner\")\\\n",
    "                .select(ans_active[\"OwnerUserId\"], ans_active[\"NumberOfAnswers\"], ans_active[\"TotalScore\"])\\\n",
    "                .orderBy(ans_active[\"OwnerUserId\"])\n",
    "\n",
    "active_users.agg(count(\"*\")).show()\n",
    "active_users.show()"
   ]
  },
  {
   "cell_type": "markdown",
   "id": "406375c6",
   "metadata": {
    "pycharm": {
     "name": "#%% md\n"
    }
   },
   "source": [
    "### Option 2: Using .isin()"
   ]
  },
  {
   "cell_type": "code",
   "execution_count": 24,
   "id": "23e2f52b",
   "metadata": {
    "pycharm": {
     "name": "#%%\n"
    }
   },
   "outputs": [
    {
     "name": "stdout",
     "output_type": "stream",
     "text": [
      "+--------+\n",
      "|count(1)|\n",
      "+--------+\n",
      "|     313|\n",
      "+--------+\n",
      "\n",
      "+-----------+---------------+----------+\n",
      "|OwnerUserId|NumberOfAnswers|TotalScore|\n",
      "+-----------+---------------+----------+\n",
      "|         91|             68|       543|\n",
      "|        184|             11|       636|\n",
      "|        357|             12|       672|\n",
      "|        377|             59|       204|\n",
      "|        572|             56|       339|\n",
      "|        987|             62|       241|\n",
      "|       1175|             61|       230|\n",
      "|       1288|            179|      1177|\n",
      "|       1583|            739|      2789|\n",
      "|       1585|             49|       826|\n",
      "|       1737|             59|       201|\n",
      "|       1786|             63|       651|\n",
      "|       1862|             58|       178|\n",
      "|       1942|             88|       421|\n",
      "|       1950|             26|      1582|\n",
      "|       1965|             68|       691|\n",
      "|       2147|             63|       263|\n",
      "|       2197|             19|       513|\n",
      "|       2238|             17|       655|\n",
      "|       2385|             85|       112|\n",
      "+-----------+---------------+----------+\n",
      "only showing top 20 rows\n",
      "\n",
      "Wall time: 8.69 s\n"
     ]
    }
   ],
   "source": [
    "%%time\n",
    "#Remove the null value from ans_df and quest_df\n",
    "ans_df = ans_df.filter(col(\"OwnerUserId\").isNotNull())\n",
    "quest_df = quest_df.filter(col(\"OwnerUserId\").isNotNull())\n",
    "\n",
    "# Set up bucketing for question and answer collections\n",
    "# ans_df.write.bucketBy(8, \"ParentId\").mode(\"overwrite\").saveAsTable(\"ans_bucketed\")\n",
    "# quest_df.write.bucketBy(8, \"Id\").mode(\"overwrite\").saveAsTable(\"quest_bucketed\")\n",
    "\n",
    "# Perform bucketing join and filter questions having 5 answers at the same day\n",
    "ans_bucketed = spark.read.table(\"ans_bucketed\")\n",
    "quest_bucketd = spark.read.table(\"quest_bucketed\")\n",
    "\n",
    "spark.conf.set(\"spark.sql.autoBroadcastJoinThreshold\", -1)\n",
    "join_expr = ans_bucketed.ParentId == quest_bucketd.Id\n",
    "quest_active = quest_bucketd.join(ans_bucketed, join_expr, \"inner\")\\\n",
    "                            .filter(quest_bucketd[\"CreationDate\"] == ans_bucketed[\"CreationDate\"])\\\n",
    "                            .groupBy(quest_bucketd[\"Id\"], quest_bucketd[\"OwnerUserId\"]).count().filter(\"count > 5\")\n",
    "\n",
    "#Filter users has more than 50 Answers or TotalScore > 500\n",
    "values_to_match = [row[0] for row in quest_active.select('OwnerUserId').distinct().collect()]\n",
    "active_users = ans_bucketed.filter(ans_bucketed[\"OwnerUserId\"].isin(values_to_match))\\\n",
    "                     .groupBy(ans_bucketed[\"OwnerUserId\"])\\\n",
    "                     .agg(count(ans_bucketed[\"Id\"]).alias(\"NumberOfAnswers\"), sum(ans_bucketed[\"Score\"]).alias(\"TotalScore\"))\\\n",
    "                     .filter((col(\"NumberOfAnswers\") > 50) | (col(\"TotalScore\") > 500))\\\n",
    "                     .orderBy(\"OwnerUserId\")\n",
    "\n",
    "active_users.agg(count(\"*\")).show()\n",
    "active_users.show()"
   ]
  },
  {
   "cell_type": "code",
   "execution_count": null,
   "id": "7d861190",
   "metadata": {
    "pycharm": {
     "name": "#%%\n"
    }
   },
   "outputs": [],
   "source": []
  }
 ],
 "metadata": {
  "kernelspec": {
   "display_name": "base",
   "language": "python",
   "name": "python3"
  },
  "language_info": {
   "codemirror_mode": {
    "name": "ipython",
    "version": 3
   },
   "file_extension": ".py",
   "mimetype": "text/x-python",
   "name": "python",
   "nbconvert_exporter": "python",
   "pygments_lexer": "ipython3",
   "version": "3.9.13"
  },
  "vscode": {
   "interpreter": {
    "hash": "fd4b08c000e2fb57376b32ea0ad8f6c98fb433e97a7da87f6e679f6ff06b0fbc"
   }
  }
 },
 "nbformat": 4,
 "nbformat_minor": 5
}
